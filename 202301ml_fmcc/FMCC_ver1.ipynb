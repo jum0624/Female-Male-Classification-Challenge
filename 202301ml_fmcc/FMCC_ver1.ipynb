{
 "cells": [
  {
   "cell_type": "code",
   "execution_count": 1,
   "id": "d02364a3",
   "metadata": {},
   "outputs": [],
   "source": [
    "import numpy as np\n",
    "import pandas as pd\n",
    "\n",
    "import os\n",
    "import librosa\n",
    "\n",
    "import scipy\n",
    "from scipy.stats import skew\n",
    "from tqdm import tqdm, tqdm_pandas\n",
    "\n",
    "tqdm.pandas()\n",
    "\n",
    "from sklearn.model_selection import GridSearchCV\n",
    "from sklearn.model_selection import train_test_split\n",
    "from sklearn.metrics import accuracy_score\n",
    "from sklearn.preprocessing import StandardScaler\n",
    "from sklearn.decomposition import PCA\n",
    "\n",
    "from sklearn.svm import SVC\n",
    "from sklearn import svm, metrics"
   ]
  },
  {
   "cell_type": "markdown",
   "id": "6c32d188",
   "metadata": {},
   "source": [
    "### 모델 설명\n",
    "- 각 음성데이터에서 mfcc로 추출된 40가지 특징들의 평균, 표준편차, 왜도, 최댓값, 최솟값, 중앙값으로 피쳐 생성\n",
    "- 프레임의 크기는 25ms, hop은 10ms 로 지정하여 전처리 시행\n",
    "- 각 학습데이터와 테스트 데이터는 섞지 않은 상태로 학습 진행 후 결과 도출\n",
    "- 음성의 길이는 각각 다르므로 프레임의 크기를 맞추어 자르는 방식도 있지만, 가장 작은 음성의 길이로 맞춘 뒤, 프레임을 같은 크기로 나눔."
   ]
  },
  {
   "cell_type": "markdown",
   "id": "1e5c4558",
   "metadata": {},
   "source": [
    "# 01 데이터 전처리"
   ]
  },
  {
   "cell_type": "code",
   "execution_count": 2,
   "id": "5433e181",
   "metadata": {},
   "outputs": [],
   "source": [
    "def train_dataset():\n",
    "    file_path = 'fmcc_train.ctl'\n",
    "    dataset = []\n",
    "    with open(file_path) as f:\n",
    "        lines = f.readlines()\n",
    "    train_files_names = [i.strip(\"\\n\") for i in lines] # \\n값 제거\n",
    "    \n",
    "    for train_file in train_files_names:\n",
    "        audio, sr = librosa.load('raw16k/train/' + train_file + \".wav\", sr=16000)\n",
    "        # 남/녀 별로 labeling\n",
    "        # 0 : 남자 , 1: 여자\n",
    "        if \"M\" in train_file[0]:\n",
    "            dataset.append([audio, 0])\n",
    "        elif \"F\" in train_file[0]:\n",
    "            dataset.append([audio, 1])\n",
    "    \n",
    "    print(\"TrainDataset 생성 완료\")\n",
    "    return pd.DataFrame(dataset,columns=['data','label'])\n",
    "\n",
    "\n",
    "def test_dataset():\n",
    "    file_path = 'fmcc_test900_ref.txt'\n",
    "    dataset = []\n",
    "    with open(file_path) as f:\n",
    "        lines = f.readlines()\n",
    "    test_files_names = [i.strip(\"\\n\") for i in lines] # \\n값 제거\n",
    "    for test_file in test_files_names:\n",
    "        test_file = test_file.split(\" \")\n",
    "        audio, sr = librosa.load('raw16k/test/' + test_file[0] + \".wav\", sr=16000)\n",
    "        if test_file[1] == \"feml\":\n",
    "            dataset.append([audio, 1])\n",
    "        elif test_file[1] == \"male\":\n",
    "            dataset.append([audio, 0])\n",
    "    \n",
    "    print(\"TestDataset 생성 완료\")\n",
    "    return pd.DataFrame(dataset, columns=['data','label'])\n",
    "\n",
    "\n",
    "def get_test_label():\n",
    "    test_labels=[]\n",
    "    file_path = 'fmcc_test900_ref.txt'\n",
    "    with open(file_path) as f:\n",
    "        lines = f.readlines()\n",
    "    test_files_names = [i.strip(\"\\n\") for i in lines] # \\n값 제거\n",
    "    for test_label in test_files_names:\n",
    "        if test_label.split(\" \")[1] == \"feml\":\n",
    "            test_labels.append(1)\n",
    "        elif test_label.split(\" \")[1] == \"male\":\n",
    "            test_labels.append(0)\n",
    "    \n",
    "    return np.array(test_labels)\n",
    "\n",
    "\n",
    "# 음성의 길이 중 가장 작은 길이를 구합니다.\n",
    "\n",
    "def get_min(data):\n",
    "\n",
    "    min_data = 9999999\n",
    "    for i in data:\n",
    "        if len(i) < min_data:\n",
    "            min_data = len(i)\n",
    "\n",
    "    return min_data\n",
    "\n",
    "\n",
    "\n",
    "def set_length(data, min_length):\n",
    "\n",
    "    result = []\n",
    "    for i in data:\n",
    "        result.append(i[:min_length])\n",
    "    result = np.array(result)\n",
    "\n",
    "    return result"
   ]
  },
  {
   "cell_type": "code",
   "execution_count": 3,
   "id": "11429793",
   "metadata": {},
   "outputs": [
    {
     "name": "stdout",
     "output_type": "stream",
     "text": [
      "TrainDataset 생성 완료\n",
      "TestDataset 생성 완료\n"
     ]
    }
   ],
   "source": [
    "train_wav = train_dataset()\n",
    "test_wav = test_dataset()\n",
    "train_wav = train_wav.sample(frac=1)  # row 전체 shuffle\n",
    "#test_wav = train_wav.sample(frac=1)  # row 전체 shuffle\n",
    "\n",
    "# train 레이블 값 생성\n",
    "train_label = train_wav.label\n",
    "train_labels = np.array(train_label)\n",
    "\n",
    "# 테스트 레이블 값 생성\n",
    "test_label = test_wav.label\n",
    "test_labels = np.array(test_label)\n"
   ]
  },
  {
   "cell_type": "code",
   "execution_count": 4,
   "id": "3bda4640",
   "metadata": {},
   "outputs": [
    {
     "name": "stdout",
     "output_type": "stream",
     "text": [
      "가장 작은 길이 : 10880\n"
     ]
    }
   ],
   "source": [
    "train_x = np.array(train_wav.data)\n",
    "test_x = np.array(test_wav.data)\n",
    "\n",
    "train_min = get_min(train_x)\n",
    "test_min = get_min(test_x)\n",
    "\n",
    "min_data = np.min([train_min, test_min])\n",
    "print('가장 작은 길이 :', min_data)"
   ]
  },
  {
   "cell_type": "code",
   "execution_count": 5,
   "id": "b47f5202",
   "metadata": {},
   "outputs": [
    {
     "name": "stdout",
     "output_type": "stream",
     "text": [
      "[ 0.019104    0.02798462  0.03579712 ... -0.07562256  0.0043335\n",
      " -0.02819824]\n"
     ]
    }
   ],
   "source": [
    "train_x = set_length(train_x, min_data)\n",
    "test_x = set_length(test_x, min_data)\n",
    "print(train_x[0])\n",
    "#print('train :', train_x.shape) #(데이터셋 개수, 음성 길이)\n",
    "#print('test :', test_x.shape)"
   ]
  },
  {
   "cell_type": "markdown",
   "id": "9eb6f265",
   "metadata": {},
   "source": [
    "# 02 특징 추출"
   ]
  },
  {
   "cell_type": "code",
   "execution_count": 6,
   "id": "4c980709",
   "metadata": {},
   "outputs": [],
   "source": [
    "def preprocess_dataset(data):\n",
    "    mfccs = []\n",
    "    for i in data:\n",
    "        mfcc = librosa.feature.mfcc(y=i,sr=16000,n_mfcc=40,   # n_mfcc:return 될 mfcc의 개수를 정해주는 파라미터, 더 다양한 데이터 특징을 추출하려면 값을 증가시키면 됨. 일반적으로 40개 추출\n",
    "                                                  n_fft=400,  # n_fft:frame의 length를 결정하는 파라미터 \n",
    "                                                  hop_length=160) # hop_length의 길이만큼 옆으로 가면서 데이터를 읽음(10ms기본)\n",
    "        ft2 = librosa.feature.zero_crossing_rate(y=i)[0]\n",
    "        ft3 = librosa.feature.spectral_rolloff(y=i)[0]\n",
    "        ft4 = librosa.feature.spectral_centroid(y=i)[0]\n",
    "        ft5 = librosa.feature.spectral_contrast(y=i)[0]\n",
    "        ft6 = librosa.feature.spectral_bandwidth(y=i)[0]\n",
    "        ft1_trunc = np.hstack((np.mean(mfcc, axis=1), np.std(mfcc, axis=1), skew(mfcc, axis = 1), np.max(mfcc, axis = 1), np.median(mfcc, axis = 1), np.min(mfcc, axis = 1)))\n",
    "        ft2_trunc = np.hstack((np.mean(ft2), np.std(ft2), skew(ft2), np.max(ft2), np.median(ft2), np.min(ft2)))\n",
    "        ft3_trunc = np.hstack((np.mean(ft3), np.std(ft3), skew(ft3), np.max(ft3), np.median(ft3), np.min(ft3)))\n",
    "        ft4_trunc = np.hstack((np.mean(ft4), np.std(ft4), skew(ft4), np.max(ft4), np.median(ft4), np.min(ft4)))\n",
    "        ft5_trunc = np.hstack((np.mean(ft5), np.std(ft5), skew(ft5), np.max(ft5), np.median(ft5), np.min(ft5)))\n",
    "        ft6_trunc = np.hstack((np.mean(ft6), np.std(ft6), skew(ft6), np.max(ft6), np.median(ft6), np.max(ft6)))\n",
    "        mfccs.append(np.hstack((ft1_trunc, ft2_trunc, ft3_trunc, ft4_trunc, ft5_trunc, ft6_trunc)))\n",
    "    return pd.DataFrame(mfccs)"
   ]
  },
  {
   "cell_type": "code",
   "execution_count": 7,
   "id": "11df25e4",
   "metadata": {},
   "outputs": [],
   "source": [
    "train_mfccs = preprocess_dataset(train_x)\n",
    "train_mfccs = np.array(train_mfccs)\n",
    "\n",
    "test_mfccs = preprocess_dataset(test_x)\n",
    "test_mfccs = np.array(test_mfccs)"
   ]
  },
  {
   "cell_type": "code",
   "execution_count": 8,
   "id": "c48c5779",
   "metadata": {},
   "outputs": [
    {
     "data": {
      "text/plain": [
       "array([[-311.5475769 ,   53.3382225 ,    8.89660454, ..., 3736.34609485,\n",
       "        2636.606291  , 3736.34609485],\n",
       "       [-248.69319153,   78.53645325,  -14.07200336, ..., 2806.84934695,\n",
       "        2403.11558213, 2806.84934695],\n",
       "       [-324.43707275,  125.96269226,   11.75678635, ..., 3420.47886151,\n",
       "        2204.67495258, 3420.47886151],\n",
       "       ...,\n",
       "       [-253.001297  ,   80.48394012,  -14.25700378, ..., 3419.59913265,\n",
       "        2637.33905524, 3419.59913265],\n",
       "       [-178.29191589,   59.30818558,   -4.84354544, ..., 3209.52345952,\n",
       "        2758.13398485, 3209.52345952],\n",
       "       [-259.14242554,   66.1275177 ,  -10.90282345, ..., 3199.4337539 ,\n",
       "        2421.17302229, 3199.4337539 ]])"
      ]
     },
     "execution_count": 8,
     "metadata": {},
     "output_type": "execute_result"
    }
   ],
   "source": [
    "train_mfccs"
   ]
  },
  {
   "cell_type": "code",
   "execution_count": 9,
   "id": "38c29fc7",
   "metadata": {},
   "outputs": [
    {
     "name": "stdout",
     "output_type": "stream",
     "text": [
      "(10000, 270)\n",
      "(900, 270)\n"
     ]
    }
   ],
   "source": [
    "#print(train_mfccs)\n",
    "print(train_mfccs.shape)\n",
    "print(test_mfccs.shape)\n"
   ]
  },
  {
   "cell_type": "code",
   "execution_count": 10,
   "id": "0435d213",
   "metadata": {},
   "outputs": [
    {
     "data": {
      "text/html": [
       "<div>\n",
       "<style scoped>\n",
       "    .dataframe tbody tr th:only-of-type {\n",
       "        vertical-align: middle;\n",
       "    }\n",
       "\n",
       "    .dataframe tbody tr th {\n",
       "        vertical-align: top;\n",
       "    }\n",
       "\n",
       "    .dataframe thead th {\n",
       "        text-align: right;\n",
       "    }\n",
       "</style>\n",
       "<table border=\"1\" class=\"dataframe\">\n",
       "  <thead>\n",
       "    <tr style=\"text-align: right;\">\n",
       "      <th></th>\n",
       "      <th>0</th>\n",
       "      <th>1</th>\n",
       "      <th>2</th>\n",
       "      <th>3</th>\n",
       "      <th>4</th>\n",
       "      <th>5</th>\n",
       "      <th>6</th>\n",
       "      <th>7</th>\n",
       "      <th>8</th>\n",
       "      <th>9</th>\n",
       "      <th>...</th>\n",
       "      <th>260</th>\n",
       "      <th>261</th>\n",
       "      <th>262</th>\n",
       "      <th>263</th>\n",
       "      <th>264</th>\n",
       "      <th>265</th>\n",
       "      <th>266</th>\n",
       "      <th>267</th>\n",
       "      <th>268</th>\n",
       "      <th>269</th>\n",
       "    </tr>\n",
       "  </thead>\n",
       "  <tbody>\n",
       "    <tr>\n",
       "      <th>0</th>\n",
       "      <td>-311.547577</td>\n",
       "      <td>53.338223</td>\n",
       "      <td>8.896605</td>\n",
       "      <td>38.776142</td>\n",
       "      <td>-34.816292</td>\n",
       "      <td>-16.477997</td>\n",
       "      <td>-26.165955</td>\n",
       "      <td>-16.903870</td>\n",
       "      <td>-12.493114</td>\n",
       "      <td>-12.947577</td>\n",
       "      <td>...</td>\n",
       "      <td>0.136975</td>\n",
       "      <td>35.152576</td>\n",
       "      <td>17.052583</td>\n",
       "      <td>2.980638</td>\n",
       "      <td>2612.733075</td>\n",
       "      <td>464.700965</td>\n",
       "      <td>0.266037</td>\n",
       "      <td>3736.346095</td>\n",
       "      <td>2636.606291</td>\n",
       "      <td>3736.346095</td>\n",
       "    </tr>\n",
       "    <tr>\n",
       "      <th>1</th>\n",
       "      <td>-248.693192</td>\n",
       "      <td>78.536453</td>\n",
       "      <td>-14.072003</td>\n",
       "      <td>35.496078</td>\n",
       "      <td>-18.896502</td>\n",
       "      <td>-15.408017</td>\n",
       "      <td>-18.685266</td>\n",
       "      <td>-18.504139</td>\n",
       "      <td>-8.073468</td>\n",
       "      <td>-6.537329</td>\n",
       "      <td>...</td>\n",
       "      <td>-0.524195</td>\n",
       "      <td>27.251086</td>\n",
       "      <td>19.266709</td>\n",
       "      <td>5.979970</td>\n",
       "      <td>2434.428172</td>\n",
       "      <td>140.168294</td>\n",
       "      <td>0.900074</td>\n",
       "      <td>2806.849347</td>\n",
       "      <td>2403.115582</td>\n",
       "      <td>2806.849347</td>\n",
       "    </tr>\n",
       "    <tr>\n",
       "      <th>2</th>\n",
       "      <td>-324.437073</td>\n",
       "      <td>125.962692</td>\n",
       "      <td>11.756786</td>\n",
       "      <td>41.339958</td>\n",
       "      <td>-7.995292</td>\n",
       "      <td>5.503910</td>\n",
       "      <td>-6.733978</td>\n",
       "      <td>-6.750180</td>\n",
       "      <td>-4.354207</td>\n",
       "      <td>-4.577660</td>\n",
       "      <td>...</td>\n",
       "      <td>-0.265892</td>\n",
       "      <td>26.375108</td>\n",
       "      <td>18.967333</td>\n",
       "      <td>10.559089</td>\n",
       "      <td>2303.541076</td>\n",
       "      <td>435.924573</td>\n",
       "      <td>1.341557</td>\n",
       "      <td>3420.478862</td>\n",
       "      <td>2204.674953</td>\n",
       "      <td>3420.478862</td>\n",
       "    </tr>\n",
       "    <tr>\n",
       "      <th>3</th>\n",
       "      <td>-264.023804</td>\n",
       "      <td>108.418900</td>\n",
       "      <td>19.892815</td>\n",
       "      <td>-6.441436</td>\n",
       "      <td>-19.824553</td>\n",
       "      <td>-12.067206</td>\n",
       "      <td>-25.062845</td>\n",
       "      <td>-5.971821</td>\n",
       "      <td>-16.302170</td>\n",
       "      <td>-7.671244</td>\n",
       "      <td>...</td>\n",
       "      <td>-0.473144</td>\n",
       "      <td>30.620872</td>\n",
       "      <td>18.389379</td>\n",
       "      <td>3.118209</td>\n",
       "      <td>2599.161969</td>\n",
       "      <td>587.375436</td>\n",
       "      <td>-0.028760</td>\n",
       "      <td>3455.768442</td>\n",
       "      <td>2659.951549</td>\n",
       "      <td>3455.768442</td>\n",
       "    </tr>\n",
       "    <tr>\n",
       "      <th>4</th>\n",
       "      <td>-202.886780</td>\n",
       "      <td>89.818893</td>\n",
       "      <td>-7.076195</td>\n",
       "      <td>33.795536</td>\n",
       "      <td>-23.732798</td>\n",
       "      <td>-5.322490</td>\n",
       "      <td>-19.458488</td>\n",
       "      <td>-14.773770</td>\n",
       "      <td>-13.241652</td>\n",
       "      <td>2.982929</td>\n",
       "      <td>...</td>\n",
       "      <td>-1.011367</td>\n",
       "      <td>33.541033</td>\n",
       "      <td>23.697638</td>\n",
       "      <td>6.492317</td>\n",
       "      <td>2343.365744</td>\n",
       "      <td>292.199297</td>\n",
       "      <td>1.465677</td>\n",
       "      <td>3067.472630</td>\n",
       "      <td>2242.848093</td>\n",
       "      <td>3067.472630</td>\n",
       "    </tr>\n",
       "  </tbody>\n",
       "</table>\n",
       "<p>5 rows × 270 columns</p>\n",
       "</div>"
      ],
      "text/plain": [
       "          0           1          2          3          4          5    \\\n",
       "0 -311.547577   53.338223   8.896605  38.776142 -34.816292 -16.477997   \n",
       "1 -248.693192   78.536453 -14.072003  35.496078 -18.896502 -15.408017   \n",
       "2 -324.437073  125.962692  11.756786  41.339958  -7.995292   5.503910   \n",
       "3 -264.023804  108.418900  19.892815  -6.441436 -19.824553 -12.067206   \n",
       "4 -202.886780   89.818893  -7.076195  33.795536 -23.732798  -5.322490   \n",
       "\n",
       "         6          7          8          9    ...       260        261  \\\n",
       "0 -26.165955 -16.903870 -12.493114 -12.947577  ...  0.136975  35.152576   \n",
       "1 -18.685266 -18.504139  -8.073468  -6.537329  ... -0.524195  27.251086   \n",
       "2  -6.733978  -6.750180  -4.354207  -4.577660  ... -0.265892  26.375108   \n",
       "3 -25.062845  -5.971821 -16.302170  -7.671244  ... -0.473144  30.620872   \n",
       "4 -19.458488 -14.773770 -13.241652   2.982929  ... -1.011367  33.541033   \n",
       "\n",
       "         262        263          264         265       266          267  \\\n",
       "0  17.052583   2.980638  2612.733075  464.700965  0.266037  3736.346095   \n",
       "1  19.266709   5.979970  2434.428172  140.168294  0.900074  2806.849347   \n",
       "2  18.967333  10.559089  2303.541076  435.924573  1.341557  3420.478862   \n",
       "3  18.389379   3.118209  2599.161969  587.375436 -0.028760  3455.768442   \n",
       "4  23.697638   6.492317  2343.365744  292.199297  1.465677  3067.472630   \n",
       "\n",
       "           268          269  \n",
       "0  2636.606291  3736.346095  \n",
       "1  2403.115582  2806.849347  \n",
       "2  2204.674953  3420.478862  \n",
       "3  2659.951549  3455.768442  \n",
       "4  2242.848093  3067.472630  \n",
       "\n",
       "[5 rows x 270 columns]"
      ]
     },
     "execution_count": 10,
     "metadata": {},
     "output_type": "execute_result"
    }
   ],
   "source": [
    "train_data = pd.DataFrame(train_mfccs)\n",
    "test_data = pd.DataFrame(test_mfccs)\n",
    "train_data.head()"
   ]
  },
  {
   "cell_type": "code",
   "execution_count": 11,
   "id": "74b8703d",
   "metadata": {},
   "outputs": [
    {
     "data": {
      "text/plain": [
       "(10000, 270)"
      ]
     },
     "execution_count": 11,
     "metadata": {},
     "output_type": "execute_result"
    }
   ],
   "source": [
    "# 정규화 작업\n",
    "sc = StandardScaler()\n",
    "sc.fit(train_mfccs)\n",
    " \n",
    "X_train_std = sc.transform(train_mfccs)\n",
    "X_test_std = sc.transform(test_mfccs)\n",
    "X_train_std.shape"
   ]
  },
  {
   "cell_type": "code",
   "execution_count": 12,
   "id": "8c40de14",
   "metadata": {},
   "outputs": [],
   "source": [
    "# predict 데이터로 trainset 쪼개기\n",
    "#X_predict_std = X_train_std[8000:]\n",
    "#X_train_std = X_train_std[:8000]\n",
    "#print(X_predict_std.shape)\n",
    "#print(X_train_std.shape)"
   ]
  },
  {
   "cell_type": "markdown",
   "id": "146dbe9c",
   "metadata": {},
   "source": [
    "# SVM 모델 학습"
   ]
  },
  {
   "cell_type": "code",
   "execution_count": 13,
   "id": "2d9cb0f0",
   "metadata": {},
   "outputs": [
    {
     "name": "stdout",
     "output_type": "stream",
     "text": [
      "0.8722222222222222\n"
     ]
    },
    {
     "name": "stderr",
     "output_type": "stream",
     "text": [
      "/Users/boyunchoi/anaconda3/lib/python3.10/site-packages/sklearn/svm/_base.py:1244: ConvergenceWarning: Liblinear failed to converge, increase the number of iterations.\n",
      "  warnings.warn(\n"
     ]
    }
   ],
   "source": [
    "C=1\n",
    "clf = svm.LinearSVC(C=C, max_iter = 10000)\n",
    "clf.fit(X_train_std, train_labels)\n",
    "\n",
    "print(accuracy_score(clf.predict(X_test_std), test_labels))"
   ]
  },
  {
   "cell_type": "code",
   "execution_count": 14,
   "id": "04c62da9",
   "metadata": {},
   "outputs": [
    {
     "name": "stdout",
     "output_type": "stream",
     "text": [
      "0.8811111111111111\n"
     ]
    }
   ],
   "source": [
    "clf = svm.SVC()\n",
    "clf.fit(X_train_std, train_labels)\n",
    "\n",
    "print(accuracy_score(clf.predict(X_test_std), test_labels))"
   ]
  },
  {
   "cell_type": "code",
   "execution_count": 15,
   "id": "575328fd",
   "metadata": {},
   "outputs": [
    {
     "name": "stdout",
     "output_type": "stream",
     "text": [
      "0.4444444444444444\n"
     ]
    }
   ],
   "source": [
    "# rbf 활용\n",
    "clf = svm.SVC(kernel = 'rbf', gamma = 0.7, C=C, max_iter = 10000)\n",
    "clf.fit(X_train_std, train_labels)\n",
    "\n",
    "print(accuracy_score(clf.predict(X_test_std), test_labels))"
   ]
  },
  {
   "cell_type": "code",
   "execution_count": 16,
   "id": "60ff4dfc",
   "metadata": {},
   "outputs": [
    {
     "name": "stdout",
     "output_type": "stream",
     "text": [
      "0.87\n"
     ]
    }
   ],
   "source": [
    "# polynomial 활용\n",
    "\n",
    "clf = svm.SVC(kernel = 'poly', degree = 3, gamma = 'auto', C=C, max_iter = 10000)    \n",
    "#3차항으로 설정, degree = 3\n",
    "#gamma는 sigma^2에 해당하는 scale parameter\n",
    "#학습 반복횟수 10000\n",
    "\n",
    "clf.fit(X_train_std, train_labels)\n",
    "\n",
    "print(accuracy_score(clf.predict(X_test_std), test_labels))"
   ]
  },
  {
   "cell_type": "code",
   "execution_count": 17,
   "id": "44fe424d",
   "metadata": {},
   "outputs": [
    {
     "name": "stdout",
     "output_type": "stream",
     "text": [
      "0.8722222222222222\n"
     ]
    },
    {
     "name": "stderr",
     "output_type": "stream",
     "text": [
      "/Users/boyunchoi/anaconda3/lib/python3.10/site-packages/sklearn/svm/_base.py:1244: ConvergenceWarning: Liblinear failed to converge, increase the number of iterations.\n",
      "  warnings.warn(\n"
     ]
    }
   ],
   "source": [
    "C=4\n",
    "clf = svm.LinearSVC(C=C, max_iter = 10000)\n",
    "clf.fit(X_train_std, train_labels)\n",
    "\n",
    "print(accuracy_score(clf.predict(X_test_std), test_labels))"
   ]
  },
  {
   "cell_type": "code",
   "execution_count": null,
   "id": "517e5690",
   "metadata": {},
   "outputs": [],
   "source": []
  }
 ],
 "metadata": {
  "kernelspec": {
   "display_name": "Python 3 (ipykernel)",
   "language": "python",
   "name": "python3"
  },
  "language_info": {
   "codemirror_mode": {
    "name": "ipython",
    "version": 3
   },
   "file_extension": ".py",
   "mimetype": "text/x-python",
   "name": "python",
   "nbconvert_exporter": "python",
   "pygments_lexer": "ipython3",
   "version": "3.10.9"
  }
 },
 "nbformat": 4,
 "nbformat_minor": 5
}
