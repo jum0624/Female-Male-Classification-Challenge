{
 "cells": [
  {
   "cell_type": "code",
   "execution_count": 64,
   "id": "d02364a3",
   "metadata": {},
   "outputs": [],
   "source": [
    "import numpy as np\n",
    "import pandas as pd\n",
    "\n",
    "import os\n",
    "import librosa\n",
    "\n",
    "import scipy\n",
    "from scipy.stats import skew\n",
    "from tqdm import tqdm, tqdm_pandas\n",
    "\n",
    "tqdm.pandas()\n",
    "\n",
    "from sklearn.model_selection import GridSearchCV\n",
    "from sklearn.model_selection import train_test_split\n",
    "from sklearn.metrics import accuracy_score\n",
    "from sklearn.preprocessing import StandardScaler\n",
    "from sklearn.decomposition import PCA\n",
    "\n",
    "from sklearn.svm import SVC\n",
    "from sklearn import svm, metrics"
   ]
  },
  {
   "cell_type": "markdown",
   "id": "6c32d188",
   "metadata": {},
   "source": [
    "### 모델 설명\n",
    "- 각 음성데이터에서 mfcc로 추출된 40가지 특징들의 평균, 표준편차, 왜도, 최댓값, 최솟값, 중앙값으로 피쳐 생성\n",
    "- 프레임의 크기는 25ms, hop은 10ms 로 지정하여 전처리 시행\n",
    "- 각 학습데이터와 테스트 데이터는 섞지 않은 상태로 학습 진행 후 결과 도출\n",
    "- 음성의 길이는 각각 다르므로 프레임의 크기를 맞추어 자르는 방식도 있지만, 가장 작은 음성의 길이로 맞춘 뒤, 프레임을 같은 크기로 나눔."
   ]
  },
  {
   "cell_type": "markdown",
   "id": "1e5c4558",
   "metadata": {},
   "source": [
    "# 01 데이터 전처리"
   ]
  },
  {
   "cell_type": "code",
   "execution_count": 65,
   "id": "5433e181",
   "metadata": {},
   "outputs": [],
   "source": [
    "def train_dataset():\n",
    "    file_path = 'fmcc_train.ctl'\n",
    "    dataset = []\n",
    "    with open(file_path) as f:\n",
    "        lines = f.readlines()\n",
    "    train_files_names = [i.strip(\"\\n\") for i in lines] # \\n값 제거\n",
    "    \n",
    "    for train_file in train_files_names:\n",
    "        audio, sr = librosa.load('raw16k/train/' + train_file + \".wav\", sr=16000)\n",
    "        # 남/녀 별로 labeling\n",
    "        # 0 : 남자 , 1: 여자\n",
    "        if \"M\" in train_file[0]:\n",
    "            dataset.append([audio, 0])\n",
    "        elif \"F\" in train_file[0]:\n",
    "            dataset.append([audio, 1])\n",
    "    \n",
    "    print(\"TrainDataset 생성 완료\")\n",
    "    return pd.DataFrame(dataset,columns=['data','label'])\n",
    "\n",
    "\n",
    "def test_dataset():\n",
    "    file_path = 'fmcc_test900_ref.txt'\n",
    "    dataset = []\n",
    "    with open(file_path) as f:\n",
    "        lines = f.readlines()\n",
    "    test_files_names = [i.strip(\"\\n\") for i in lines] # \\n값 제거\n",
    "    for test_file in test_files_names:\n",
    "        test_file = test_file.split(\" \")\n",
    "        audio, sr = librosa.load('raw16k/test/' + test_file[0] + \".wav\", sr=16000)\n",
    "        if test_file[1] == \"feml\":\n",
    "            dataset.append([audio, 1])\n",
    "        elif test_file[1] == \"male\":\n",
    "            dataset.append([audio, 0])\n",
    "    \n",
    "    print(\"TestDataset 생성 완료\")\n",
    "    return pd.DataFrame(dataset, columns=['data','label'])\n",
    "\n",
    "\n",
    "def get_test_label():\n",
    "    test_labels=[]\n",
    "    file_path = 'fmcc_test900_ref.txt'\n",
    "    with open(file_path) as f:\n",
    "        lines = f.readlines()\n",
    "    test_files_names = [i.strip(\"\\n\") for i in lines] # \\n값 제거\n",
    "    for test_label in test_files_names:\n",
    "        if test_label.split(\" \")[1] == \"feml\":\n",
    "            test_labels.append(1)\n",
    "        elif test_label.split(\" \")[1] == \"male\":\n",
    "            test_labels.append(0)\n",
    "    \n",
    "    return np.array(test_labels)\n",
    "\n",
    "\n",
    "# 음성의 길이 중 가장 작은 길이를 구합니다.\n",
    "\n",
    "def get_min(data):\n",
    "\n",
    "    min_data = 9999999\n",
    "    for i in data:\n",
    "        if len(i) < min_data:\n",
    "            min_data = len(i)\n",
    "\n",
    "    return min_data\n",
    "\n",
    "\n",
    "\n",
    "def set_length(data, min_length):\n",
    "\n",
    "    result = []\n",
    "    for i in data:\n",
    "        result.append(i[:min_length])\n",
    "    result = np.array(result)\n",
    "\n",
    "    return result"
   ]
  },
  {
   "cell_type": "code",
   "execution_count": 66,
   "id": "11429793",
   "metadata": {},
   "outputs": [
    {
     "name": "stdout",
     "output_type": "stream",
     "text": [
      "TrainDataset 생성 완료\n",
      "TestDataset 생성 완료\n"
     ]
    }
   ],
   "source": [
    "train_wav = train_dataset()\n",
    "test_wav = test_dataset()\n",
    "train_wav = train_wav.sample(frac=1)  # row 전체 shuffle\n",
    "#test_wav = train_wav.sample(frac=1)  # row 전체 shuffle\n",
    "\n",
    "# train 레이블 값 생성\n",
    "train_label = train_wav.label\n",
    "train_labels = np.array(train_label)\n",
    "\n",
    "# 테스트 레이블 값 생성\n",
    "test_label = test_wav.label\n",
    "test_labels = np.array(test_label)\n"
   ]
  },
  {
   "cell_type": "code",
   "execution_count": 67,
   "id": "3bda4640",
   "metadata": {},
   "outputs": [
    {
     "name": "stdout",
     "output_type": "stream",
     "text": [
      "가장 작은 길이 : 10880\n"
     ]
    }
   ],
   "source": [
    "train_x = np.array(train_wav.data)\n",
    "test_x = np.array(test_wav.data)\n",
    "\n",
    "train_min = get_min(train_x)\n",
    "test_min = get_min(test_x)\n",
    "\n",
    "min_data = np.min([train_min, test_min])\n",
    "print('가장 작은 길이 :', min_data)"
   ]
  },
  {
   "cell_type": "code",
   "execution_count": 68,
   "id": "b47f5202",
   "metadata": {},
   "outputs": [
    {
     "name": "stdout",
     "output_type": "stream",
     "text": [
      "[0.01660156 0.019104   0.02096558 ... 0.08987427 0.14273071 0.16067505]\n"
     ]
    }
   ],
   "source": [
    "train_x = set_length(train_x, min_data)\n",
    "test_x = set_length(test_x, min_data)\n",
    "print(train_x[0])\n",
    "#print('train :', train_x.shape) #(데이터셋 개수, 음성 길이)\n",
    "#print('test :', test_x.shape)"
   ]
  },
  {
   "cell_type": "markdown",
   "id": "9eb6f265",
   "metadata": {},
   "source": [
    "# 02 특징 추출"
   ]
  },
  {
   "cell_type": "code",
   "execution_count": 69,
   "id": "4c980709",
   "metadata": {},
   "outputs": [],
   "source": [
    "def preprocess_dataset(data):\n",
    "    mfccs = []\n",
    "    for i in data:\n",
    "        mfcc = librosa.feature.mfcc(y=i,sr=16000,n_mfcc=40,   # n_mfcc:return 될 mfcc의 개수를 정해주는 파라미터, 더 다양한 데이터 특징을 추출하려면 값을 증가시키면 됨. 일반적으로 40개 추출\n",
    "                                                  n_fft=400,  # n_fft:frame의 length를 결정하는 파라미터 \n",
    "                                                  hop_length=160) # hop_length의 길이만큼 옆으로 가면서 데이터를 읽음(10ms기본)\n",
    "        ft2 = librosa.feature.zero_crossing_rate(y=i)[0]\n",
    "        ft3 = librosa.feature.spectral_rolloff(y=i)[0]\n",
    "        ft4 = librosa.feature.spectral_centroid(y=i)[0]\n",
    "        ft5 = librosa.feature.spectral_contrast(y=i)[0]\n",
    "        ft6 = librosa.feature.spectral_bandwidth(y=i)[0]\n",
    "        ft1_trunc = np.hstack((np.mean(mfcc, axis=1), np.std(mfcc, axis=1), skew(mfcc, axis = 1), np.max(mfcc, axis = 1), np.median(mfcc, axis = 1), np.min(mfcc, axis = 1)))\n",
    "        ft2_trunc = np.hstack((np.mean(ft2), np.std(ft2), skew(ft2), np.max(ft2), np.median(ft2), np.min(ft2)))\n",
    "        ft3_trunc = np.hstack((np.mean(ft3), np.std(ft3), skew(ft3), np.max(ft3), np.median(ft3), np.min(ft3)))\n",
    "        ft4_trunc = np.hstack((np.mean(ft4), np.std(ft4), skew(ft4), np.max(ft4), np.median(ft4), np.min(ft4)))\n",
    "        ft5_trunc = np.hstack((np.mean(ft5), np.std(ft5), skew(ft5), np.max(ft5), np.median(ft5), np.min(ft5)))\n",
    "        ft6_trunc = np.hstack((np.mean(ft6), np.std(ft6), skew(ft6), np.max(ft6), np.median(ft6), np.max(ft6)))\n",
    "        mfccs.append(np.hstack((ft1_trunc, ft2_trunc, ft3_trunc, ft4_trunc, ft5_trunc, ft6_trunc)))\n",
    "    return pd.DataFrame(mfccs)"
   ]
  },
  {
   "cell_type": "code",
   "execution_count": 70,
   "id": "11df25e4",
   "metadata": {},
   "outputs": [],
   "source": [
    "train_mfccs = preprocess_dataset(train_x)\n",
    "train_mfccs = np.array(train_mfccs)\n",
    "\n",
    "test_mfccs = preprocess_dataset(test_x)\n",
    "test_mfccs = np.array(test_mfccs)"
   ]
  },
  {
   "cell_type": "code",
   "execution_count": 71,
   "id": "c48c5779",
   "metadata": {},
   "outputs": [
    {
     "data": {
      "text/plain": [
       "array([[-269.36199951,   74.01269531,   16.16133118, ..., 3633.13171755,\n",
       "        2833.64255075, 3633.13171755],\n",
       "       [-297.97909546,   72.95867157,  -24.09208488, ..., 3049.33391211,\n",
       "        2246.37511658, 3049.33391211],\n",
       "       [-196.43765259,   75.14990997,  -21.70511436, ..., 2989.11097575,\n",
       "        2415.67663236, 2989.11097575],\n",
       "       ...,\n",
       "       [-222.71995544,   93.5573349 ,   15.14359856, ..., 3138.89413604,\n",
       "        2691.30121787, 3138.89413604],\n",
       "       [-232.20715332,   90.29489899,   28.48860359, ..., 3299.9285924 ,\n",
       "        2937.13341082, 3299.9285924 ],\n",
       "       [-251.08180237,   58.95478439,  -52.06054306, ..., 2449.72786814,\n",
       "        2265.16015172, 2449.72786814]])"
      ]
     },
     "execution_count": 71,
     "metadata": {},
     "output_type": "execute_result"
    }
   ],
   "source": [
    "train_mfccs"
   ]
  },
  {
   "cell_type": "code",
   "execution_count": 72,
   "id": "38c29fc7",
   "metadata": {},
   "outputs": [
    {
     "name": "stdout",
     "output_type": "stream",
     "text": [
      "(10000, 270)\n",
      "(900, 270)\n"
     ]
    }
   ],
   "source": [
    "#print(train_mfccs)\n",
    "print(train_mfccs.shape)\n",
    "print(test_mfccs.shape)\n"
   ]
  },
  {
   "cell_type": "code",
   "execution_count": 73,
   "id": "0435d213",
   "metadata": {},
   "outputs": [
    {
     "data": {
      "text/html": [
       "<div>\n",
       "<style scoped>\n",
       "    .dataframe tbody tr th:only-of-type {\n",
       "        vertical-align: middle;\n",
       "    }\n",
       "\n",
       "    .dataframe tbody tr th {\n",
       "        vertical-align: top;\n",
       "    }\n",
       "\n",
       "    .dataframe thead th {\n",
       "        text-align: right;\n",
       "    }\n",
       "</style>\n",
       "<table border=\"1\" class=\"dataframe\">\n",
       "  <thead>\n",
       "    <tr style=\"text-align: right;\">\n",
       "      <th></th>\n",
       "      <th>0</th>\n",
       "      <th>1</th>\n",
       "      <th>2</th>\n",
       "      <th>3</th>\n",
       "      <th>4</th>\n",
       "      <th>5</th>\n",
       "      <th>6</th>\n",
       "      <th>7</th>\n",
       "      <th>8</th>\n",
       "      <th>9</th>\n",
       "      <th>...</th>\n",
       "      <th>260</th>\n",
       "      <th>261</th>\n",
       "      <th>262</th>\n",
       "      <th>263</th>\n",
       "      <th>264</th>\n",
       "      <th>265</th>\n",
       "      <th>266</th>\n",
       "      <th>267</th>\n",
       "      <th>268</th>\n",
       "      <th>269</th>\n",
       "    </tr>\n",
       "  </thead>\n",
       "  <tbody>\n",
       "    <tr>\n",
       "      <th>0</th>\n",
       "      <td>-269.362000</td>\n",
       "      <td>74.012695</td>\n",
       "      <td>16.161331</td>\n",
       "      <td>49.461853</td>\n",
       "      <td>2.084093</td>\n",
       "      <td>15.346108</td>\n",
       "      <td>1.435024</td>\n",
       "      <td>14.484039</td>\n",
       "      <td>-7.915791</td>\n",
       "      <td>12.596985</td>\n",
       "      <td>...</td>\n",
       "      <td>-0.515575</td>\n",
       "      <td>25.802986</td>\n",
       "      <td>19.331053</td>\n",
       "      <td>6.972030</td>\n",
       "      <td>2852.627751</td>\n",
       "      <td>464.265174</td>\n",
       "      <td>-0.015010</td>\n",
       "      <td>3633.131718</td>\n",
       "      <td>2833.642551</td>\n",
       "      <td>3633.131718</td>\n",
       "    </tr>\n",
       "    <tr>\n",
       "      <th>1</th>\n",
       "      <td>-297.979095</td>\n",
       "      <td>72.958672</td>\n",
       "      <td>-24.092085</td>\n",
       "      <td>34.787235</td>\n",
       "      <td>-10.491766</td>\n",
       "      <td>-8.983263</td>\n",
       "      <td>-8.902759</td>\n",
       "      <td>-9.953056</td>\n",
       "      <td>-3.805806</td>\n",
       "      <td>-5.130380</td>\n",
       "      <td>...</td>\n",
       "      <td>-0.222293</td>\n",
       "      <td>30.579553</td>\n",
       "      <td>21.677399</td>\n",
       "      <td>7.158816</td>\n",
       "      <td>2344.511208</td>\n",
       "      <td>237.542613</td>\n",
       "      <td>1.633632</td>\n",
       "      <td>3049.333912</td>\n",
       "      <td>2246.375117</td>\n",
       "      <td>3049.333912</td>\n",
       "    </tr>\n",
       "    <tr>\n",
       "      <th>2</th>\n",
       "      <td>-196.437653</td>\n",
       "      <td>75.149910</td>\n",
       "      <td>-21.705114</td>\n",
       "      <td>18.888514</td>\n",
       "      <td>-22.395741</td>\n",
       "      <td>-2.079852</td>\n",
       "      <td>-11.970265</td>\n",
       "      <td>1.583614</td>\n",
       "      <td>-8.433710</td>\n",
       "      <td>-13.726496</td>\n",
       "      <td>...</td>\n",
       "      <td>-0.286753</td>\n",
       "      <td>25.445345</td>\n",
       "      <td>19.484178</td>\n",
       "      <td>11.222117</td>\n",
       "      <td>2509.055006</td>\n",
       "      <td>243.486875</td>\n",
       "      <td>0.775139</td>\n",
       "      <td>2989.110976</td>\n",
       "      <td>2415.676632</td>\n",
       "      <td>2989.110976</td>\n",
       "    </tr>\n",
       "    <tr>\n",
       "      <th>3</th>\n",
       "      <td>-179.448135</td>\n",
       "      <td>105.576546</td>\n",
       "      <td>-13.916913</td>\n",
       "      <td>9.062522</td>\n",
       "      <td>-23.919323</td>\n",
       "      <td>-5.069688</td>\n",
       "      <td>-22.712831</td>\n",
       "      <td>-0.933076</td>\n",
       "      <td>-20.017641</td>\n",
       "      <td>2.612354</td>\n",
       "      <td>...</td>\n",
       "      <td>-1.423353</td>\n",
       "      <td>32.372792</td>\n",
       "      <td>27.130022</td>\n",
       "      <td>6.550785</td>\n",
       "      <td>2288.426596</td>\n",
       "      <td>309.611066</td>\n",
       "      <td>0.278212</td>\n",
       "      <td>2864.169192</td>\n",
       "      <td>2332.766579</td>\n",
       "      <td>2864.169192</td>\n",
       "    </tr>\n",
       "    <tr>\n",
       "      <th>4</th>\n",
       "      <td>-258.555573</td>\n",
       "      <td>63.962608</td>\n",
       "      <td>-7.303214</td>\n",
       "      <td>19.467211</td>\n",
       "      <td>-16.508804</td>\n",
       "      <td>-13.047114</td>\n",
       "      <td>-7.283066</td>\n",
       "      <td>5.969139</td>\n",
       "      <td>-3.581412</td>\n",
       "      <td>-7.383719</td>\n",
       "      <td>...</td>\n",
       "      <td>-0.098361</td>\n",
       "      <td>32.146969</td>\n",
       "      <td>21.187685</td>\n",
       "      <td>8.239988</td>\n",
       "      <td>2720.240784</td>\n",
       "      <td>190.175557</td>\n",
       "      <td>0.139834</td>\n",
       "      <td>3089.602031</td>\n",
       "      <td>2729.035876</td>\n",
       "      <td>3089.602031</td>\n",
       "    </tr>\n",
       "  </tbody>\n",
       "</table>\n",
       "<p>5 rows × 270 columns</p>\n",
       "</div>"
      ],
      "text/plain": [
       "          0           1          2          3          4          5    \\\n",
       "0 -269.362000   74.012695  16.161331  49.461853   2.084093  15.346108   \n",
       "1 -297.979095   72.958672 -24.092085  34.787235 -10.491766  -8.983263   \n",
       "2 -196.437653   75.149910 -21.705114  18.888514 -22.395741  -2.079852   \n",
       "3 -179.448135  105.576546 -13.916913   9.062522 -23.919323  -5.069688   \n",
       "4 -258.555573   63.962608  -7.303214  19.467211 -16.508804 -13.047114   \n",
       "\n",
       "         6          7          8          9    ...       260        261  \\\n",
       "0   1.435024  14.484039  -7.915791  12.596985  ... -0.515575  25.802986   \n",
       "1  -8.902759  -9.953056  -3.805806  -5.130380  ... -0.222293  30.579553   \n",
       "2 -11.970265   1.583614  -8.433710 -13.726496  ... -0.286753  25.445345   \n",
       "3 -22.712831  -0.933076 -20.017641   2.612354  ... -1.423353  32.372792   \n",
       "4  -7.283066   5.969139  -3.581412  -7.383719  ... -0.098361  32.146969   \n",
       "\n",
       "         262        263          264         265       266          267  \\\n",
       "0  19.331053   6.972030  2852.627751  464.265174 -0.015010  3633.131718   \n",
       "1  21.677399   7.158816  2344.511208  237.542613  1.633632  3049.333912   \n",
       "2  19.484178  11.222117  2509.055006  243.486875  0.775139  2989.110976   \n",
       "3  27.130022   6.550785  2288.426596  309.611066  0.278212  2864.169192   \n",
       "4  21.187685   8.239988  2720.240784  190.175557  0.139834  3089.602031   \n",
       "\n",
       "           268          269  \n",
       "0  2833.642551  3633.131718  \n",
       "1  2246.375117  3049.333912  \n",
       "2  2415.676632  2989.110976  \n",
       "3  2332.766579  2864.169192  \n",
       "4  2729.035876  3089.602031  \n",
       "\n",
       "[5 rows x 270 columns]"
      ]
     },
     "execution_count": 73,
     "metadata": {},
     "output_type": "execute_result"
    }
   ],
   "source": [
    "train_data = pd.DataFrame(train_mfccs)\n",
    "test_data = pd.DataFrame(test_mfccs)\n",
    "train_data.head()"
   ]
  },
  {
   "cell_type": "code",
   "execution_count": 74,
   "id": "74b8703d",
   "metadata": {},
   "outputs": [
    {
     "data": {
      "text/plain": [
       "(10000, 270)"
      ]
     },
     "execution_count": 74,
     "metadata": {},
     "output_type": "execute_result"
    }
   ],
   "source": [
    "# 정규화 작업\n",
    "sc = StandardScaler()\n",
    "sc.fit(train_mfccs)\n",
    " \n",
    "X_train_std = sc.transform(train_mfccs)\n",
    "X_test_std = sc.transform(test_mfccs)\n",
    "X_train_std.shape"
   ]
  },
  {
   "cell_type": "code",
   "execution_count": 75,
   "id": "8c40de14",
   "metadata": {},
   "outputs": [],
   "source": [
    "# predict 데이터로 trainset 쪼개기\n",
    "#X_predict_std = X_train_std[8000:]\n",
    "#X_train_std = X_train_std[:8000]\n",
    "#print(X_predict_std.shape)\n",
    "#print(X_train_std.shape)"
   ]
  },
  {
   "cell_type": "markdown",
   "id": "146dbe9c",
   "metadata": {},
   "source": [
    "# SVM 모델 학습"
   ]
  },
  {
   "cell_type": "code",
   "execution_count": 76,
   "id": "2d9cb0f0",
   "metadata": {},
   "outputs": [
    {
     "name": "stdout",
     "output_type": "stream",
     "text": [
      "0.8722222222222222\n"
     ]
    },
    {
     "name": "stderr",
     "output_type": "stream",
     "text": [
      "/opt/homebrew/lib/python3.10/site-packages/sklearn/svm/_base.py:1244: ConvergenceWarning: Liblinear failed to converge, increase the number of iterations.\n",
      "  warnings.warn(\n"
     ]
    }
   ],
   "source": [
    "C=1\n",
    "clf = svm.LinearSVC(C=C, max_iter = 10000)\n",
    "clf.fit(X_train_std, train_labels)\n",
    "\n",
    "print(accuracy_score(clf.predict(X_test_std), test_labels))"
   ]
  },
  {
   "cell_type": "code",
   "execution_count": 77,
   "id": "04c62da9",
   "metadata": {},
   "outputs": [
    {
     "name": "stdout",
     "output_type": "stream",
     "text": [
      "0.8811111111111111\n"
     ]
    }
   ],
   "source": [
    "clf = svm.SVC()\n",
    "clf.fit(X_train_std, train_labels)\n",
    "\n",
    "print(accuracy_score(clf.predict(X_test_std), test_labels))"
   ]
  },
  {
   "cell_type": "code",
   "execution_count": 78,
   "id": "575328fd",
   "metadata": {},
   "outputs": [
    {
     "name": "stdout",
     "output_type": "stream",
     "text": [
      "0.4444444444444444\n"
     ]
    }
   ],
   "source": [
    "# rbf 활용\n",
    "clf = svm.SVC(kernel = 'rbf', gamma = 0.7, C=C, max_iter = 10000)\n",
    "clf.fit(X_train_std, train_labels)\n",
    "\n",
    "print(accuracy_score(clf.predict(X_test_std), test_labels))"
   ]
  },
  {
   "cell_type": "code",
   "execution_count": 79,
   "id": "60ff4dfc",
   "metadata": {},
   "outputs": [
    {
     "name": "stdout",
     "output_type": "stream",
     "text": [
      "0.87\n"
     ]
    }
   ],
   "source": [
    "# polynomial 활용\n",
    "\n",
    "clf = svm.SVC(kernel = 'poly', degree = 3, gamma = 'auto', C=C, max_iter = 10000)    \n",
    "#3차항으로 설정, degree = 3\n",
    "#gamma는 sigma^2에 해당하는 scale parameter\n",
    "#학습 반복횟수 10000\n",
    "\n",
    "clf.fit(X_train_std, train_labels)\n",
    "\n",
    "print(accuracy_score(clf.predict(X_test_std), test_labels))"
   ]
  },
  {
   "cell_type": "code",
   "execution_count": 80,
   "id": "44fe424d",
   "metadata": {},
   "outputs": [
    {
     "name": "stdout",
     "output_type": "stream",
     "text": [
      "0.8744444444444445\n"
     ]
    },
    {
     "name": "stderr",
     "output_type": "stream",
     "text": [
      "/opt/homebrew/lib/python3.10/site-packages/sklearn/svm/_base.py:1244: ConvergenceWarning: Liblinear failed to converge, increase the number of iterations.\n",
      "  warnings.warn(\n"
     ]
    }
   ],
   "source": [
    "C=4\n",
    "clf = svm.LinearSVC(C=C, max_iter = 10000)\n",
    "clf.fit(X_train_std, train_labels)\n",
    "\n",
    "print(accuracy_score(clf.predict(X_test_std), test_labels))"
   ]
  },
  {
   "cell_type": "code",
   "execution_count": null,
   "id": "517e5690",
   "metadata": {},
   "outputs": [],
   "source": []
  }
 ],
 "metadata": {
  "kernelspec": {
   "display_name": "Python 3 (ipykernel)",
   "language": "python",
   "name": "python3"
  },
  "language_info": {
   "codemirror_mode": {
    "name": "ipython",
    "version": 3
   },
   "file_extension": ".py",
   "mimetype": "text/x-python",
   "name": "python",
   "nbconvert_exporter": "python",
   "pygments_lexer": "ipython3",
   "version": "3.10.11"
  }
 },
 "nbformat": 4,
 "nbformat_minor": 5
}
