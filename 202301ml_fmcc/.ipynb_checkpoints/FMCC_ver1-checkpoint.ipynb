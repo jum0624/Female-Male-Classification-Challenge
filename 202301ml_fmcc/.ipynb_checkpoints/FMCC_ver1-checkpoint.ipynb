{
 "cells": [
  {
   "cell_type": "code",
   "execution_count": 120,
   "id": "d02364a3",
   "metadata": {},
   "outputs": [],
   "source": [
    "import numpy as np\n",
    "import pandas as pd\n",
    "\n",
    "import os\n",
    "import librosa\n",
    "\n",
    "import scipy\n",
    "from scipy.stats import skew\n",
    "from tqdm import tqdm, tqdm_pandas\n",
    "\n",
    "tqdm.pandas()\n",
    "\n",
    "from sklearn.model_selection import GridSearchCV\n",
    "from sklearn.model_selection import train_test_split\n",
    "from sklearn.metrics import accuracy_score\n",
    "from sklearn.preprocessing import StandardScaler\n",
    "from sklearn.decomposition import PCA\n",
    "\n",
    "from sklearn.svm import SVC\n",
    "from sklearn import svm, metrics"
   ]
  },
  {
   "cell_type": "markdown",
   "id": "6c32d188",
   "metadata": {},
   "source": [
    "### 모델 설명\n",
    "- 각 음성데이터에서 mfcc로 추출된 40가지 특징들의 평균, 표준편차, 왜도, 최댓값, 최솟값, 중앙값으로 피쳐 생성\n",
    "- 프레임의 크기는 25ms, hop은 10ms 로 지정하여 전처리 시행\n",
    "- 각 학습데이터와 테스트 데이터는 섞지 않은 상태로 학습 진행 후 결과 도출\n",
    "- 음성의 길이는 각각 다르므로 프레임의 크기를 맞추어 자르는 방식도 있지만, 가장 작은 음성의 길이로 맞춘 뒤, 프레임을 같은 크기로 나눔."
   ]
  },
  {
   "cell_type": "markdown",
   "id": "1e5c4558",
   "metadata": {},
   "source": [
    "# 01 데이터 전처리"
   ]
  },
  {
   "cell_type": "code",
   "execution_count": 121,
   "id": "5433e181",
   "metadata": {},
   "outputs": [],
   "source": [
    "def train_dataset():\n",
    "    file_path = 'fmcc_train.ctl'\n",
    "    dataset = []\n",
    "    with open(file_path) as f:\n",
    "        lines = f.readlines()\n",
    "    train_files_names = [i.strip(\"\\n\") for i in lines] # \\n값 제거\n",
    "    \n",
    "    for train_file in train_files_names:\n",
    "        audio, sr = librosa.load('raw16k/train/' + train_file + \".wav\", sr=16000)\n",
    "        # 남/녀 별로 labeling\n",
    "        # 0 : 남자 , 1: 여자\n",
    "        if \"M\" in train_file[0]:\n",
    "            dataset.append([audio, 0])\n",
    "        elif \"F\" in train_file[0]:\n",
    "            dataset.append([audio, 1])\n",
    "    \n",
    "    print(\"TrainDataset 생성 완료\")\n",
    "    return pd.DataFrame(dataset,columns=['data','label'])\n",
    "\n",
    "\n",
    "def test_dataset():\n",
    "    file_path = 'fmcc_test900.ctl'\n",
    "    dataset = []\n",
    "    with open(file_path) as f:\n",
    "        lines = f.readlines()\n",
    "    test_files_names = [i.strip(\"\\n\") for i in lines] # \\n값 제거\n",
    "    for test_file in test_files_names:\n",
    "        audio, sr = librosa.load('raw16k/test/' + test_file + \".wav\", sr=16000)\n",
    "        dataset.append(audio)\n",
    "    \n",
    "    print(\"TestDataset 생성 완료\")\n",
    "    return pd.DataFrame({\"data\":dataset})\n",
    "\n",
    "\n",
    "def get_test_label():\n",
    "    test_labels=[]\n",
    "    file_path = 'fmcc_test900_ref.txt'\n",
    "    with open(file_path) as f:\n",
    "        lines = f.readlines()\n",
    "    test_files_names = [i.strip(\"\\n\") for i in lines] # \\n값 제거\n",
    "    for test_label in test_files_names:\n",
    "        if test_label.split(\" \")[1] == \"feml\":\n",
    "            test_labels.append(1)\n",
    "        elif test_label.split(\" \")[1] == \"male\":\n",
    "            test_labels.append(0)\n",
    "    \n",
    "    return np.array(test_labels)\n",
    "\n",
    "\n",
    "# 음성의 길이 중 가장 작은 길이를 구합니다.\n",
    "\n",
    "def get_min(data):\n",
    "\n",
    "    min_data = 9999999\n",
    "    for i in data:\n",
    "        if len(i) < min_data:\n",
    "            min_data = len(i)\n",
    "\n",
    "    return min_data\n",
    "\n",
    "\n",
    "\n",
    "def set_length(data, min_length):\n",
    "\n",
    "    result = []\n",
    "    for i in data:\n",
    "        result.append(i[:min_length])\n",
    "    result = np.array(result)\n",
    "\n",
    "    return result"
   ]
  },
  {
   "cell_type": "code",
   "execution_count": 122,
   "id": "11429793",
   "metadata": {},
   "outputs": [
    {
     "name": "stdout",
     "output_type": "stream",
     "text": [
      "TrainDataset 생성 완료\n",
      "TestDataset 생성 완료\n"
     ]
    }
   ],
   "source": [
    "train_wav = train_dataset()\n",
    "test_wav = test_dataset()\n",
    "\n",
    "# train 레이블 값 생성\n",
    "train_label = train_wav.label\n",
    "train_labels = np.array(train_label)\n",
    "\n",
    "\n",
    "# 테스트 레이블 값 생성\n",
    "test_labels = get_test_label()"
   ]
  },
  {
   "cell_type": "code",
   "execution_count": 123,
   "id": "3bda4640",
   "metadata": {},
   "outputs": [
    {
     "name": "stdout",
     "output_type": "stream",
     "text": [
      "가장 작은 길이 : 10880\n"
     ]
    }
   ],
   "source": [
    "train_x = np.array(train_wav.data)\n",
    "test_x = np.array(test_wav.data)\n",
    "\n",
    "train_min = get_min(train_x)\n",
    "test_min = get_min(test_x)\n",
    "\n",
    "min_data = np.min([train_min, test_min])\n",
    "print('가장 작은 길이 :', min_data)"
   ]
  },
  {
   "cell_type": "code",
   "execution_count": 124,
   "id": "b47f5202",
   "metadata": {},
   "outputs": [
    {
     "name": "stdout",
     "output_type": "stream",
     "text": [
      "[ 0.         -0.00064087 -0.00036621 ... -0.13336182 -0.1991272\n",
      " -0.28030396]\n"
     ]
    }
   ],
   "source": [
    "train_x = set_length(train_x, min_data)\n",
    "test_x = set_length(test_x, min_data)\n",
    "print(train_x[0])\n",
    "#print('train :', train_x.shape) #(데이터셋 개수, 음성 길이)\n",
    "#print('test :', test_x.shape)"
   ]
  },
  {
   "cell_type": "markdown",
   "id": "9eb6f265",
   "metadata": {},
   "source": [
    "# 02 특징 추출"
   ]
  },
  {
   "cell_type": "code",
   "execution_count": 125,
   "id": "4c980709",
   "metadata": {},
   "outputs": [],
   "source": [
    "def preprocess_dataset(data):\n",
    "    mfccs = []\n",
    "    for i in data:\n",
    "        mfcc = librosa.feature.mfcc(y=i,sr=16000,n_mfcc=40,   # n_mfcc:return 될 mfcc의 개수를 정해주는 파라미터, 더 다양한 데이터 특징을 추출하려면 값을 증가시키면 됨. 일반적으로 40개 추출\n",
    "                                                  n_fft=400,  # n_fft:frame의 length를 결정하는 파라미터 \n",
    "                                                  hop_length=160) # hop_length의 길이만큼 옆으로 가면서 데이터를 읽음(10ms기본)\n",
    "        \n",
    "        ft1_trunc = np.hstack((np.mean(mfcc, axis=1), np.std(mfcc, axis=1), skew(mfcc, axis = 1), np.max(mfcc, axis = 1), np.median(mfcc, axis = 1), np.min(mfcc, axis = 1)))\n",
    "        mfccs.append(ft1_trunc)\n",
    "    return mfccs"
   ]
  },
  {
   "cell_type": "code",
   "execution_count": 126,
   "id": "11df25e4",
   "metadata": {},
   "outputs": [],
   "source": [
    "train_mfccs = preprocess_dataset(train_x)\n",
    "train_mfccs = np.array(train_mfccs)\n",
    "\n",
    "test_mfccs = preprocess_dataset(test_x)\n",
    "test_mfccs = np.array(test_mfccs)"
   ]
  },
  {
   "cell_type": "code",
   "execution_count": 127,
   "id": "38c29fc7",
   "metadata": {},
   "outputs": [
    {
     "name": "stdout",
     "output_type": "stream",
     "text": [
      "(10000, 240)\n",
      "(900, 240)\n"
     ]
    }
   ],
   "source": [
    "#print(train_mfccs)\n",
    "print(train_mfccs.shape)\n",
    "print(test_mfccs.shape)"
   ]
  },
  {
   "cell_type": "code",
   "execution_count": 128,
   "id": "0435d213",
   "metadata": {},
   "outputs": [
    {
     "data": {
      "text/html": [
       "<div>\n",
       "<style scoped>\n",
       "    .dataframe tbody tr th:only-of-type {\n",
       "        vertical-align: middle;\n",
       "    }\n",
       "\n",
       "    .dataframe tbody tr th {\n",
       "        vertical-align: top;\n",
       "    }\n",
       "\n",
       "    .dataframe thead th {\n",
       "        text-align: right;\n",
       "    }\n",
       "</style>\n",
       "<table border=\"1\" class=\"dataframe\">\n",
       "  <thead>\n",
       "    <tr style=\"text-align: right;\">\n",
       "      <th></th>\n",
       "      <th>0</th>\n",
       "      <th>1</th>\n",
       "      <th>2</th>\n",
       "      <th>3</th>\n",
       "      <th>4</th>\n",
       "      <th>5</th>\n",
       "      <th>6</th>\n",
       "      <th>7</th>\n",
       "      <th>8</th>\n",
       "      <th>9</th>\n",
       "      <th>...</th>\n",
       "      <th>230</th>\n",
       "      <th>231</th>\n",
       "      <th>232</th>\n",
       "      <th>233</th>\n",
       "      <th>234</th>\n",
       "      <th>235</th>\n",
       "      <th>236</th>\n",
       "      <th>237</th>\n",
       "      <th>238</th>\n",
       "      <th>239</th>\n",
       "    </tr>\n",
       "  </thead>\n",
       "  <tbody>\n",
       "    <tr>\n",
       "      <th>0</th>\n",
       "      <td>-380.365814</td>\n",
       "      <td>76.334946</td>\n",
       "      <td>-1.395402</td>\n",
       "      <td>-2.194204</td>\n",
       "      <td>-17.747524</td>\n",
       "      <td>-5.754469</td>\n",
       "      <td>-15.892243</td>\n",
       "      <td>-11.955150</td>\n",
       "      <td>-12.445198</td>\n",
       "      <td>-7.762434</td>\n",
       "      <td>...</td>\n",
       "      <td>-22.295040</td>\n",
       "      <td>-22.244614</td>\n",
       "      <td>-24.729691</td>\n",
       "      <td>-27.391726</td>\n",
       "      <td>-15.319876</td>\n",
       "      <td>-19.618578</td>\n",
       "      <td>-14.013907</td>\n",
       "      <td>-16.075361</td>\n",
       "      <td>-13.573168</td>\n",
       "      <td>-15.176089</td>\n",
       "    </tr>\n",
       "    <tr>\n",
       "      <th>1</th>\n",
       "      <td>-343.873260</td>\n",
       "      <td>88.127762</td>\n",
       "      <td>-21.545973</td>\n",
       "      <td>-5.645923</td>\n",
       "      <td>-21.817709</td>\n",
       "      <td>9.816467</td>\n",
       "      <td>-8.497810</td>\n",
       "      <td>-4.265706</td>\n",
       "      <td>-16.999857</td>\n",
       "      <td>-1.066157</td>\n",
       "      <td>...</td>\n",
       "      <td>-15.263478</td>\n",
       "      <td>-11.197349</td>\n",
       "      <td>-17.914913</td>\n",
       "      <td>-14.137145</td>\n",
       "      <td>-17.711437</td>\n",
       "      <td>-13.960834</td>\n",
       "      <td>-11.369070</td>\n",
       "      <td>-9.835249</td>\n",
       "      <td>-11.850672</td>\n",
       "      <td>-14.158845</td>\n",
       "    </tr>\n",
       "    <tr>\n",
       "      <th>2</th>\n",
       "      <td>-290.456909</td>\n",
       "      <td>106.672348</td>\n",
       "      <td>-7.071352</td>\n",
       "      <td>7.418191</td>\n",
       "      <td>-36.337719</td>\n",
       "      <td>-15.828415</td>\n",
       "      <td>-11.525275</td>\n",
       "      <td>-21.305012</td>\n",
       "      <td>-26.783209</td>\n",
       "      <td>-1.976714</td>\n",
       "      <td>...</td>\n",
       "      <td>-16.104332</td>\n",
       "      <td>-15.583339</td>\n",
       "      <td>-25.294594</td>\n",
       "      <td>-19.232141</td>\n",
       "      <td>-21.681736</td>\n",
       "      <td>-13.615280</td>\n",
       "      <td>-9.122320</td>\n",
       "      <td>-9.899756</td>\n",
       "      <td>-23.690935</td>\n",
       "      <td>-22.948257</td>\n",
       "    </tr>\n",
       "    <tr>\n",
       "      <th>3</th>\n",
       "      <td>-280.250000</td>\n",
       "      <td>74.393150</td>\n",
       "      <td>-19.325123</td>\n",
       "      <td>20.682898</td>\n",
       "      <td>-11.374447</td>\n",
       "      <td>-15.076911</td>\n",
       "      <td>-18.467619</td>\n",
       "      <td>-11.006845</td>\n",
       "      <td>-9.498373</td>\n",
       "      <td>-1.645369</td>\n",
       "      <td>...</td>\n",
       "      <td>-19.057915</td>\n",
       "      <td>-17.051262</td>\n",
       "      <td>-16.890179</td>\n",
       "      <td>-22.768242</td>\n",
       "      <td>-23.360519</td>\n",
       "      <td>-13.871180</td>\n",
       "      <td>-15.989393</td>\n",
       "      <td>-19.247276</td>\n",
       "      <td>-13.287590</td>\n",
       "      <td>-11.615672</td>\n",
       "    </tr>\n",
       "    <tr>\n",
       "      <th>4</th>\n",
       "      <td>-256.264160</td>\n",
       "      <td>98.770813</td>\n",
       "      <td>-40.115376</td>\n",
       "      <td>21.815762</td>\n",
       "      <td>-28.333029</td>\n",
       "      <td>-10.120652</td>\n",
       "      <td>-21.746471</td>\n",
       "      <td>-18.536825</td>\n",
       "      <td>-11.675270</td>\n",
       "      <td>-3.179917</td>\n",
       "      <td>...</td>\n",
       "      <td>-17.667896</td>\n",
       "      <td>-17.798054</td>\n",
       "      <td>-13.071291</td>\n",
       "      <td>-13.166066</td>\n",
       "      <td>-11.112615</td>\n",
       "      <td>-11.356215</td>\n",
       "      <td>-16.528999</td>\n",
       "      <td>-14.287234</td>\n",
       "      <td>-11.237858</td>\n",
       "      <td>-10.815157</td>\n",
       "    </tr>\n",
       "  </tbody>\n",
       "</table>\n",
       "<p>5 rows × 240 columns</p>\n",
       "</div>"
      ],
      "text/plain": [
       "          0           1          2          3          4          5    \\\n",
       "0 -380.365814   76.334946  -1.395402  -2.194204 -17.747524  -5.754469   \n",
       "1 -343.873260   88.127762 -21.545973  -5.645923 -21.817709   9.816467   \n",
       "2 -290.456909  106.672348  -7.071352   7.418191 -36.337719 -15.828415   \n",
       "3 -280.250000   74.393150 -19.325123  20.682898 -11.374447 -15.076911   \n",
       "4 -256.264160   98.770813 -40.115376  21.815762 -28.333029 -10.120652   \n",
       "\n",
       "         6          7          8         9    ...        230        231  \\\n",
       "0 -15.892243 -11.955150 -12.445198 -7.762434  ... -22.295040 -22.244614   \n",
       "1  -8.497810  -4.265706 -16.999857 -1.066157  ... -15.263478 -11.197349   \n",
       "2 -11.525275 -21.305012 -26.783209 -1.976714  ... -16.104332 -15.583339   \n",
       "3 -18.467619 -11.006845  -9.498373 -1.645369  ... -19.057915 -17.051262   \n",
       "4 -21.746471 -18.536825 -11.675270 -3.179917  ... -17.667896 -17.798054   \n",
       "\n",
       "         232        233        234        235        236        237  \\\n",
       "0 -24.729691 -27.391726 -15.319876 -19.618578 -14.013907 -16.075361   \n",
       "1 -17.914913 -14.137145 -17.711437 -13.960834 -11.369070  -9.835249   \n",
       "2 -25.294594 -19.232141 -21.681736 -13.615280  -9.122320  -9.899756   \n",
       "3 -16.890179 -22.768242 -23.360519 -13.871180 -15.989393 -19.247276   \n",
       "4 -13.071291 -13.166066 -11.112615 -11.356215 -16.528999 -14.287234   \n",
       "\n",
       "         238        239  \n",
       "0 -13.573168 -15.176089  \n",
       "1 -11.850672 -14.158845  \n",
       "2 -23.690935 -22.948257  \n",
       "3 -13.287590 -11.615672  \n",
       "4 -11.237858 -10.815157  \n",
       "\n",
       "[5 rows x 240 columns]"
      ]
     },
     "execution_count": 128,
     "metadata": {},
     "output_type": "execute_result"
    }
   ],
   "source": [
    "train_data = pd.DataFrame(train_mfccs)\n",
    "test_data = pd.DataFrame(test_mfccs)\n",
    "train_data.head()"
   ]
  },
  {
   "cell_type": "code",
   "execution_count": 129,
   "id": "74b8703d",
   "metadata": {},
   "outputs": [],
   "source": [
    "# 정규화 작업\n",
    "sc = StandardScaler()\n",
    "sc.fit(train_mfccs)\n",
    " \n",
    "X_train_std = sc.transform(train_mfccs)\n",
    "X_test_std = sc.transform(test_mfccs)"
   ]
  },
  {
   "cell_type": "markdown",
   "id": "146dbe9c",
   "metadata": {},
   "source": [
    "# SVM 모델 학습"
   ]
  },
  {
   "cell_type": "code",
   "execution_count": 130,
   "id": "2d9cb0f0",
   "metadata": {},
   "outputs": [
    {
     "name": "stdout",
     "output_type": "stream",
     "text": [
      "0.8544444444444445\n"
     ]
    }
   ],
   "source": [
    "clf = svm.SVC()\n",
    "clf.fit(X_train_std, train_labels)\n",
    "\n",
    "print(accuracy_score(clf.predict(X_test_std), test_labels))"
   ]
  },
  {
   "cell_type": "code",
   "execution_count": null,
   "id": "04c62da9",
   "metadata": {},
   "outputs": [],
   "source": []
  }
 ],
 "metadata": {
  "kernelspec": {
   "display_name": "Python 3 (ipykernel)",
   "language": "python",
   "name": "python3"
  },
  "language_info": {
   "codemirror_mode": {
    "name": "ipython",
    "version": 3
   },
   "file_extension": ".py",
   "mimetype": "text/x-python",
   "name": "python",
   "nbconvert_exporter": "python",
   "pygments_lexer": "ipython3",
   "version": "3.10.11"
  }
 },
 "nbformat": 4,
 "nbformat_minor": 5
}
