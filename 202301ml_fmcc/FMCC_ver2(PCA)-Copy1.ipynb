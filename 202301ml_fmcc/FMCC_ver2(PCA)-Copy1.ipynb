{
 "cells": [
  {
   "cell_type": "code",
   "execution_count": 3,
   "id": "d02364a3",
   "metadata": {},
   "outputs": [],
   "source": [
    "import numpy as np\n",
    "import pandas as pd\n",
    "import matplotlib.pyplot as plt\n",
    "\n",
    "import os\n",
    "import librosa\n",
    "\n",
    "import scipy\n",
    "from scipy.stats import skew\n",
    "from tqdm import tqdm, tqdm_pandas\n",
    "\n",
    "tqdm.pandas()\n",
    "\n",
    "from sklearn.model_selection import GridSearchCV\n",
    "from sklearn.model_selection import train_test_split\n",
    "from sklearn.metrics import accuracy_score\n",
    "from sklearn.preprocessing import StandardScaler\n",
    "from sklearn.decomposition import PCA\n",
    "\n",
    "from sklearn.discriminant_analysis import LinearDiscriminantAnalysis\n",
    "\n",
    "from sklearn.svm import SVC\n",
    "from sklearn import svm, metrics\n",
    "from sklearn.utils import shuffle\n",
    "\n",
    "from sklearn.model_selection import learning_curve\n"
   ]
  },
  {
   "cell_type": "markdown",
   "id": "6c32d188",
   "metadata": {},
   "source": [
    "### 모델 설명\n",
    "- 각 음성데이터에서 mfcc로 추출된 40가지 특징들의 평균, 표준편차, 왜도, 최댓값, 최솟값, 중앙값으로 피쳐 생성\n",
    "- 프레임의 크기는 25ms, hop은 10ms 로 지정하여 전처리 시행\n",
    "- 각 학습데이터와 테스트 데이터는 섞지 않은 상태로 학습 진행 후 결과 도출\n",
    "- 음성의 길이는 각각 다르므로 프레임의 크기를 맞추어 자르는 방식도 있지만, 가장 작은 음성의 길이로 맞춘 뒤, 프레임을 같은 크기로 나눔."
   ]
  },
  {
   "cell_type": "markdown",
   "id": "1e5c4558",
   "metadata": {},
   "source": [
    "# 01 데이터 전처리"
   ]
  },
  {
   "cell_type": "code",
   "execution_count": 4,
   "id": "5433e181",
   "metadata": {},
   "outputs": [],
   "source": [
    "def train_dataset():\n",
    "    file_path = 'fmcc_train.ctl'\n",
    "    dataset = []\n",
    "    with open(file_path) as f:\n",
    "        lines = f.readlines()\n",
    "    train_files_names = [i.strip(\"\\n\") for i in lines] # \\n값 제거\n",
    "    \n",
    "    for train_file in train_files_names:\n",
    "        file_name='raw16k/train/' + train_file + \".wav\"\n",
    "        audio, sr = librosa.load(file_name, sr=16000)\n",
    "        # 남/녀 별로 labeling\n",
    "        # 1 : 남자 , 0: 여자\n",
    "        if \"M\" in train_file[0]:\n",
    "            #dataset.append([audio, \"male\"])\n",
    "            dataset.append([file_name, audio, \"male\"])\n",
    "        elif \"F\" in train_file[0]:\n",
    "            #dataset.append([audio, \"feml\"])\n",
    "            dataset.append([file_name, audio, \"feml\"])\n",
    "    \n",
    "    print(\"TrainDataset 생성 완료\")\n",
    "    return pd.DataFrame(dataset,columns=['fname', 'data','label'])\n",
    "\n",
    "\n",
    "def test_dataset():\n",
    "    file_path = 'fmcc_test900_ref.txt'\n",
    "    dataset = []\n",
    "    with open(file_path) as f:\n",
    "        lines = f.readlines()\n",
    "    test_files_names = [i.strip(\"\\n\") for i in lines] # \\n값 제거\n",
    "    for test_file in test_files_names:\n",
    "        test_file = test_file.split(\" \")\n",
    "        #fname = 'raw16k/test/' + test_file[0]\n",
    "        fname = test_file[0]\n",
    "        audio, sr = librosa.load('raw16k/test/' + fname + \".wav\", sr=16000)\n",
    "        if test_file[1] == \"feml\":\n",
    "            #dataset.append([fname+\".raw\", audio, \"feml\"])\n",
    "            dataset.append(['/home/wikim/exp/raw16k/test/'+fname+\".raw\", audio, \"feml\"])\n",
    "        elif test_file[1] == \"male\":\n",
    "            #dataset.append([fname+\".raw\", audio, \"male\"])\n",
    "            dataset.append(['/home/wikim/exp/raw16k/test/'+fname+\".raw\", audio, \"male\"])\n",
    "    \n",
    "    print(\"TestDataset 생성 완료\")\n",
    "    return pd.DataFrame(dataset, columns=['fname','data','label'])\n",
    "\n",
    "\n",
    "# 음성의 길이 중 가장 작은 길이를 구합니다.\n",
    "\n",
    "def get_min(data):\n",
    "\n",
    "    min_data = 9999999\n",
    "    for i in data:\n",
    "        if len(i) < min_data:\n",
    "            min_data = len(i)\n",
    "\n",
    "    return min_data\n",
    "\n",
    "\n",
    "def get_max(data):\n",
    "\n",
    "    max_data = -999\n",
    "    for i in data:\n",
    "        if len(i) > max_data:\n",
    "            max_data = len(i)\n",
    "\n",
    "    return max_data\n",
    "\n",
    "def set_length(data, min_length):\n",
    "\n",
    "    result = []\n",
    "    for i in data:\n",
    "        result.append(i[:min_length])\n",
    "    result = np.array(result)\n",
    "\n",
    "    return result\n",
    "\n",
    "def zero_pad(data, max_length):\n",
    "    padded_data = []\n",
    "    for d in data:\n",
    "        if len(d) < max_length:\n",
    "            pad_width = max_length - len(d)\n",
    "            padded_d = np.pad(d, (0, pad_width), mode='constant')\n",
    "        else:\n",
    "            padded_d = d[:max_length]\n",
    "        padded_data.append(padded_d)\n",
    "    return np.array(padded_data)"
   ]
  },
  {
   "cell_type": "code",
   "execution_count": 5,
   "id": "11429793",
   "metadata": {},
   "outputs": [
    {
     "name": "stdout",
     "output_type": "stream",
     "text": [
      "TrainDataset 생성 완료\n",
      "TestDataset 생성 완료\n"
     ]
    }
   ],
   "source": [
    "train_wav = train_dataset()\n",
    "test_wav = test_dataset()"
   ]
  },
  {
   "cell_type": "code",
   "execution_count": 6,
   "id": "3bda4640",
   "metadata": {},
   "outputs": [
    {
     "name": "stdout",
     "output_type": "stream",
     "text": [
      "가장 긴 길이 : 39040\n"
     ]
    }
   ],
   "source": [
    "train_x = np.array(train_wav.data)\n",
    "test_x = np.array(test_wav.data)\n",
    "\n",
    "train_max = get_max(train_x)\n",
    "test_max = get_max(test_x)\n",
    "\n",
    "max_data = np.max([train_max, test_max])\n",
    "print('가장 긴 길이 :', max_data)"
   ]
  },
  {
   "cell_type": "code",
   "execution_count": 7,
   "id": "b47f5202",
   "metadata": {},
   "outputs": [
    {
     "name": "stdout",
     "output_type": "stream",
     "text": [
      "[ 0.         -0.00064087 -0.00036621 ...  0.          0.\n",
      "  0.        ]\n",
      "train : (10000, 39040)\n",
      "test : (900, 39040)\n"
     ]
    }
   ],
   "source": [
    "train_x = zero_pad(train_x, max_data)\n",
    "test_x = zero_pad(test_x, max_data)\n",
    "print(train_x[0])\n",
    "print('train :', train_x.shape) #(데이터셋 개수, 음성 길이)\n",
    "print('test :', test_x.shape)"
   ]
  },
  {
   "cell_type": "markdown",
   "id": "9eb6f265",
   "metadata": {},
   "source": [
    "# 02 특징 추출"
   ]
  },
  {
   "cell_type": "code",
   "execution_count": 10,
   "id": "4c980709",
   "metadata": {},
   "outputs": [],
   "source": [
    "def preprocess_dataset(data):\n",
    "    mfccs = []\n",
    "    for i in data:\n",
    "        mfcc = librosa.feature.mfcc(y=i,sr=16000,n_mfcc=40,   # n_mfcc:return 될 mfcc의 개수를 정해주는 파라미터, 더 다양한 데이터 특징을 추출하려면 값을 증가시키면 됨. 일반적으로 40개 추출\n",
    "                                                  n_fft=400,  # n_fft:frame의 length를 결정하는 파라미터 \n",
    "                                                  hop_length=160) # hop_length의 길이만큼 옆으로 가면서 데이터를 읽음(10ms기본)\n",
    "        features = extract_features(mfcc, i, 16000)\n",
    "        mfccs.append(feature)\n",
    "    return pd.DataFrame(mfccs)\n",
    "    #return np.array(mfccs)\n",
    "    \n",
    "# 특징 추출 함수 정의\n",
    "def extract_features(mfcc, y, sr):\n",
    "    features = {\n",
    "        'meanfreq': librosa.feature.spectral_bandwidth(y=y, sr=sr),\n",
    "        'sd': librosa.feature.spectral_contrast(y=y, sr=sr),\n",
    "        'median': librosa.feature.spectral_rolloff(y=y, sr=sr),\n",
    "        'Q25': librosa.feature.spectral_centroid(y=y, sr=sr),\n",
    "        'Q75': librosa.feature.spectral_flatness(y=y),\n",
    "        'IQR': librosa.feature.mfcc(y=y, sr=sr),\n",
    "        'skew': librosa.feature.rmse(y=y),\n",
    "        'kurt': librosa.feature.zero_crossing_rate(y),\n",
    "        'sp.ent': librosa.feature.tonnetz(y),\n",
    "        'sfm': librosa.feature.poly_features(y),\n",
    "        'centroid': librosa.feature.tempogram(y),\n",
    "        'meanfun': librosa.feature.zero_crossing_rate(y),\n",
    "        'minfun': librosa.feature.spectral_rolloff(y=y, sr=sr),\n",
    "        'maxfun': librosa.feature.spectral_bandwidth(y=y, sr=sr),\n",
    "        'meandom': librosa.feature.spectral_contrast(y=y, sr=sr),\n",
    "        'mindom': librosa.feature.spectral_flatness(y=y),\n",
    "        'maxdom': librosa.feature.spectral_centroid(y=y, sr=sr),\n",
    "        'dfrange': librosa.feature.rmse(y=y),\n",
    "        'modindx': librosa.feature.zero_crossing_rate(y),\n",
    "    }\n",
    "    return features\n"
   ]
  },
  {
   "cell_type": "code",
   "execution_count": 11,
   "id": "11df25e4",
   "metadata": {},
   "outputs": [
    {
     "ename": "AttributeError",
     "evalue": "No librosa.feature attribute rmse",
     "output_type": "error",
     "traceback": [
      "\u001b[0;31m---------------------------------------------------------------------------\u001b[0m",
      "\u001b[0;31mAttributeError\u001b[0m                            Traceback (most recent call last)",
      "Cell \u001b[0;32mIn[11], line 1\u001b[0m\n\u001b[0;32m----> 1\u001b[0m train_mfccs \u001b[38;5;241m=\u001b[39m \u001b[43mpreprocess_dataset\u001b[49m\u001b[43m(\u001b[49m\u001b[43mtrain_x\u001b[49m\u001b[43m)\u001b[49m\n\u001b[1;32m      2\u001b[0m \u001b[38;5;66;03m#train_mfccs = np.array(train_mfccs)\u001b[39;00m\n\u001b[1;32m      4\u001b[0m test_mfccs \u001b[38;5;241m=\u001b[39m preprocess_dataset(test_x)\n",
      "Cell \u001b[0;32mIn[10], line 7\u001b[0m, in \u001b[0;36mpreprocess_dataset\u001b[0;34m(data)\u001b[0m\n\u001b[1;32m      3\u001b[0m \u001b[38;5;28;01mfor\u001b[39;00m i \u001b[38;5;129;01min\u001b[39;00m data:\n\u001b[1;32m      4\u001b[0m     mfcc \u001b[38;5;241m=\u001b[39m librosa\u001b[38;5;241m.\u001b[39mfeature\u001b[38;5;241m.\u001b[39mmfcc(y\u001b[38;5;241m=\u001b[39mi,sr\u001b[38;5;241m=\u001b[39m\u001b[38;5;241m16000\u001b[39m,n_mfcc\u001b[38;5;241m=\u001b[39m\u001b[38;5;241m40\u001b[39m,   \u001b[38;5;66;03m# n_mfcc:return 될 mfcc의 개수를 정해주는 파라미터, 더 다양한 데이터 특징을 추출하려면 값을 증가시키면 됨. 일반적으로 40개 추출\u001b[39;00m\n\u001b[1;32m      5\u001b[0m                                               n_fft\u001b[38;5;241m=\u001b[39m\u001b[38;5;241m400\u001b[39m,  \u001b[38;5;66;03m# n_fft:frame의 length를 결정하는 파라미터 \u001b[39;00m\n\u001b[1;32m      6\u001b[0m                                               hop_length\u001b[38;5;241m=\u001b[39m\u001b[38;5;241m160\u001b[39m) \u001b[38;5;66;03m# hop_length의 길이만큼 옆으로 가면서 데이터를 읽음(10ms기본)\u001b[39;00m\n\u001b[0;32m----> 7\u001b[0m     features \u001b[38;5;241m=\u001b[39m \u001b[43mextract_features\u001b[49m\u001b[43m(\u001b[49m\u001b[43mmfcc\u001b[49m\u001b[43m,\u001b[49m\u001b[43m \u001b[49m\u001b[43mi\u001b[49m\u001b[43m,\u001b[49m\u001b[43m \u001b[49m\u001b[38;5;241;43m16000\u001b[39;49m\u001b[43m)\u001b[49m\n\u001b[1;32m      8\u001b[0m     mfccs\u001b[38;5;241m.\u001b[39mappend(feature)\n\u001b[1;32m      9\u001b[0m \u001b[38;5;28;01mreturn\u001b[39;00m pd\u001b[38;5;241m.\u001b[39mDataFrame(mfccs)\n",
      "Cell \u001b[0;32mIn[10], line 21\u001b[0m, in \u001b[0;36mextract_features\u001b[0;34m(mfcc, y, sr)\u001b[0m\n\u001b[1;32m     13\u001b[0m \u001b[38;5;28;01mdef\u001b[39;00m \u001b[38;5;21mextract_features\u001b[39m(mfcc, y, sr):\n\u001b[1;32m     14\u001b[0m     features \u001b[38;5;241m=\u001b[39m {\n\u001b[1;32m     15\u001b[0m         \u001b[38;5;124m'\u001b[39m\u001b[38;5;124mmeanfreq\u001b[39m\u001b[38;5;124m'\u001b[39m: librosa\u001b[38;5;241m.\u001b[39mfeature\u001b[38;5;241m.\u001b[39mspectral_bandwidth(y\u001b[38;5;241m=\u001b[39my, sr\u001b[38;5;241m=\u001b[39msr),\n\u001b[1;32m     16\u001b[0m         \u001b[38;5;124m'\u001b[39m\u001b[38;5;124msd\u001b[39m\u001b[38;5;124m'\u001b[39m: librosa\u001b[38;5;241m.\u001b[39mfeature\u001b[38;5;241m.\u001b[39mspectral_contrast(y\u001b[38;5;241m=\u001b[39my, sr\u001b[38;5;241m=\u001b[39msr),\n\u001b[1;32m     17\u001b[0m         \u001b[38;5;124m'\u001b[39m\u001b[38;5;124mmedian\u001b[39m\u001b[38;5;124m'\u001b[39m: librosa\u001b[38;5;241m.\u001b[39mfeature\u001b[38;5;241m.\u001b[39mspectral_rolloff(y\u001b[38;5;241m=\u001b[39my, sr\u001b[38;5;241m=\u001b[39msr),\n\u001b[1;32m     18\u001b[0m         \u001b[38;5;124m'\u001b[39m\u001b[38;5;124mQ25\u001b[39m\u001b[38;5;124m'\u001b[39m: librosa\u001b[38;5;241m.\u001b[39mfeature\u001b[38;5;241m.\u001b[39mspectral_centroid(y\u001b[38;5;241m=\u001b[39my, sr\u001b[38;5;241m=\u001b[39msr),\n\u001b[1;32m     19\u001b[0m         \u001b[38;5;124m'\u001b[39m\u001b[38;5;124mQ75\u001b[39m\u001b[38;5;124m'\u001b[39m: librosa\u001b[38;5;241m.\u001b[39mfeature\u001b[38;5;241m.\u001b[39mspectral_flatness(y\u001b[38;5;241m=\u001b[39my),\n\u001b[1;32m     20\u001b[0m         \u001b[38;5;124m'\u001b[39m\u001b[38;5;124mIQR\u001b[39m\u001b[38;5;124m'\u001b[39m: librosa\u001b[38;5;241m.\u001b[39mfeature\u001b[38;5;241m.\u001b[39mmfcc(y\u001b[38;5;241m=\u001b[39my, sr\u001b[38;5;241m=\u001b[39msr),\n\u001b[0;32m---> 21\u001b[0m         \u001b[38;5;124m'\u001b[39m\u001b[38;5;124mskew\u001b[39m\u001b[38;5;124m'\u001b[39m: \u001b[43mlibrosa\u001b[49m\u001b[38;5;241;43m.\u001b[39;49m\u001b[43mfeature\u001b[49m\u001b[38;5;241;43m.\u001b[39;49m\u001b[43mrmse\u001b[49m(y\u001b[38;5;241m=\u001b[39my),\n\u001b[1;32m     22\u001b[0m         \u001b[38;5;124m'\u001b[39m\u001b[38;5;124mkurt\u001b[39m\u001b[38;5;124m'\u001b[39m: librosa\u001b[38;5;241m.\u001b[39mfeature\u001b[38;5;241m.\u001b[39mzero_crossing_rate(y),\n\u001b[1;32m     23\u001b[0m         \u001b[38;5;124m'\u001b[39m\u001b[38;5;124msp.ent\u001b[39m\u001b[38;5;124m'\u001b[39m: librosa\u001b[38;5;241m.\u001b[39mfeature\u001b[38;5;241m.\u001b[39mtonnetz(y),\n\u001b[1;32m     24\u001b[0m         \u001b[38;5;124m'\u001b[39m\u001b[38;5;124msfm\u001b[39m\u001b[38;5;124m'\u001b[39m: librosa\u001b[38;5;241m.\u001b[39mfeature\u001b[38;5;241m.\u001b[39mpoly_features(y),\n\u001b[1;32m     25\u001b[0m         \u001b[38;5;124m'\u001b[39m\u001b[38;5;124mcentroid\u001b[39m\u001b[38;5;124m'\u001b[39m: librosa\u001b[38;5;241m.\u001b[39mfeature\u001b[38;5;241m.\u001b[39mtempogram(y),\n\u001b[1;32m     26\u001b[0m         \u001b[38;5;124m'\u001b[39m\u001b[38;5;124mmeanfun\u001b[39m\u001b[38;5;124m'\u001b[39m: librosa\u001b[38;5;241m.\u001b[39mfeature\u001b[38;5;241m.\u001b[39mzero_crossing_rate(y),\n\u001b[1;32m     27\u001b[0m         \u001b[38;5;124m'\u001b[39m\u001b[38;5;124mminfun\u001b[39m\u001b[38;5;124m'\u001b[39m: librosa\u001b[38;5;241m.\u001b[39mfeature\u001b[38;5;241m.\u001b[39mspectral_rolloff(y\u001b[38;5;241m=\u001b[39my, sr\u001b[38;5;241m=\u001b[39msr),\n\u001b[1;32m     28\u001b[0m         \u001b[38;5;124m'\u001b[39m\u001b[38;5;124mmaxfun\u001b[39m\u001b[38;5;124m'\u001b[39m: librosa\u001b[38;5;241m.\u001b[39mfeature\u001b[38;5;241m.\u001b[39mspectral_bandwidth(y\u001b[38;5;241m=\u001b[39my, sr\u001b[38;5;241m=\u001b[39msr),\n\u001b[1;32m     29\u001b[0m         \u001b[38;5;124m'\u001b[39m\u001b[38;5;124mmeandom\u001b[39m\u001b[38;5;124m'\u001b[39m: librosa\u001b[38;5;241m.\u001b[39mfeature\u001b[38;5;241m.\u001b[39mspectral_contrast(y\u001b[38;5;241m=\u001b[39my, sr\u001b[38;5;241m=\u001b[39msr),\n\u001b[1;32m     30\u001b[0m         \u001b[38;5;124m'\u001b[39m\u001b[38;5;124mmindom\u001b[39m\u001b[38;5;124m'\u001b[39m: librosa\u001b[38;5;241m.\u001b[39mfeature\u001b[38;5;241m.\u001b[39mspectral_flatness(y\u001b[38;5;241m=\u001b[39my),\n\u001b[1;32m     31\u001b[0m         \u001b[38;5;124m'\u001b[39m\u001b[38;5;124mmaxdom\u001b[39m\u001b[38;5;124m'\u001b[39m: librosa\u001b[38;5;241m.\u001b[39mfeature\u001b[38;5;241m.\u001b[39mspectral_centroid(y\u001b[38;5;241m=\u001b[39my, sr\u001b[38;5;241m=\u001b[39msr),\n\u001b[1;32m     32\u001b[0m         \u001b[38;5;124m'\u001b[39m\u001b[38;5;124mdfrange\u001b[39m\u001b[38;5;124m'\u001b[39m: librosa\u001b[38;5;241m.\u001b[39mfeature\u001b[38;5;241m.\u001b[39mrmse(y\u001b[38;5;241m=\u001b[39my),\n\u001b[1;32m     33\u001b[0m         \u001b[38;5;124m'\u001b[39m\u001b[38;5;124mmodindx\u001b[39m\u001b[38;5;124m'\u001b[39m: librosa\u001b[38;5;241m.\u001b[39mfeature\u001b[38;5;241m.\u001b[39mzero_crossing_rate(y),\n\u001b[1;32m     34\u001b[0m     }\n\u001b[1;32m     35\u001b[0m     \u001b[38;5;28;01mreturn\u001b[39;00m features\n",
      "File \u001b[0;32m/opt/homebrew/lib/python3.10/site-packages/lazy_loader/__init__.py:88\u001b[0m, in \u001b[0;36mattach.<locals>.__getattr__\u001b[0;34m(name)\u001b[0m\n\u001b[1;32m     86\u001b[0m     \u001b[38;5;28;01mreturn\u001b[39;00m attr\n\u001b[1;32m     87\u001b[0m \u001b[38;5;28;01melse\u001b[39;00m:\n\u001b[0;32m---> 88\u001b[0m     \u001b[38;5;28;01mraise\u001b[39;00m \u001b[38;5;167;01mAttributeError\u001b[39;00m(\u001b[38;5;124mf\u001b[39m\u001b[38;5;124m\"\u001b[39m\u001b[38;5;124mNo \u001b[39m\u001b[38;5;132;01m{\u001b[39;00mpackage_name\u001b[38;5;132;01m}\u001b[39;00m\u001b[38;5;124m attribute \u001b[39m\u001b[38;5;132;01m{\u001b[39;00mname\u001b[38;5;132;01m}\u001b[39;00m\u001b[38;5;124m\"\u001b[39m)\n",
      "\u001b[0;31mAttributeError\u001b[0m: No librosa.feature attribute rmse"
     ]
    }
   ],
   "source": [
    "train_mfccs = preprocess_dataset(train_x)\n",
    "#train_mfccs = np.array(train_mfccs)\n",
    "\n",
    "test_mfccs = preprocess_dataset(test_x)\n",
    "#test_mfccs = np.array(test_mfccs)\n",
    "\n",
    "#train_mfccs.head()"
   ]
  },
  {
   "cell_type": "code",
   "execution_count": 10,
   "id": "c48c5779",
   "metadata": {},
   "outputs": [],
   "source": [
    "# 데이터셋 재설정하기\n",
    "train_set = pd.DataFrame()\n",
    "train_set['fname'] = train_wav['fname']\n",
    "test_set = pd.DataFrame()\n",
    "test_set['fname'] = test_wav['fname']\n",
    "\n",
    "train_set = pd.concat([train_set,train_mfccs],axis=1)\n",
    "train_set['label'] = train_wav['label']\n",
    "test_set = pd.concat([test_set,test_mfccs],axis=1)\n",
    "test_set['label'] = test_wav['label']"
   ]
  },
  {
   "cell_type": "code",
   "execution_count": 11,
   "id": "b349f7d0",
   "metadata": {},
   "outputs": [
    {
     "data": {
      "text/html": [
       "<div>\n",
       "<style scoped>\n",
       "    .dataframe tbody tr th:only-of-type {\n",
       "        vertical-align: middle;\n",
       "    }\n",
       "\n",
       "    .dataframe tbody tr th {\n",
       "        vertical-align: top;\n",
       "    }\n",
       "\n",
       "    .dataframe thead th {\n",
       "        text-align: right;\n",
       "    }\n",
       "</style>\n",
       "<table border=\"1\" class=\"dataframe\">\n",
       "  <thead>\n",
       "    <tr style=\"text-align: right;\">\n",
       "      <th></th>\n",
       "      <th>fname</th>\n",
       "      <th>0</th>\n",
       "      <th>1</th>\n",
       "      <th>2</th>\n",
       "      <th>3</th>\n",
       "      <th>4</th>\n",
       "      <th>5</th>\n",
       "      <th>6</th>\n",
       "      <th>7</th>\n",
       "      <th>8</th>\n",
       "      <th>...</th>\n",
       "      <th>9791</th>\n",
       "      <th>9792</th>\n",
       "      <th>9793</th>\n",
       "      <th>9794</th>\n",
       "      <th>9795</th>\n",
       "      <th>9796</th>\n",
       "      <th>9797</th>\n",
       "      <th>9798</th>\n",
       "      <th>9799</th>\n",
       "      <th>label</th>\n",
       "    </tr>\n",
       "  </thead>\n",
       "  <tbody>\n",
       "    <tr>\n",
       "      <th>9957</th>\n",
       "      <td>raw16k/train/MLWS0/MLWS0_pbw1158.wav</td>\n",
       "      <td>-340.279999</td>\n",
       "      <td>-319.469788</td>\n",
       "      <td>-321.478333</td>\n",
       "      <td>-323.552002</td>\n",
       "      <td>-325.117920</td>\n",
       "      <td>-340.695007</td>\n",
       "      <td>-360.244751</td>\n",
       "      <td>-385.219635</td>\n",
       "      <td>-384.449554</td>\n",
       "      <td>...</td>\n",
       "      <td>0.0</td>\n",
       "      <td>0.0</td>\n",
       "      <td>0.0</td>\n",
       "      <td>0.0</td>\n",
       "      <td>0.0</td>\n",
       "      <td>0.0</td>\n",
       "      <td>0.0</td>\n",
       "      <td>0.0</td>\n",
       "      <td>0.0</td>\n",
       "      <td>male</td>\n",
       "    </tr>\n",
       "    <tr>\n",
       "      <th>1687</th>\n",
       "      <td>raw16k/train/FJYJ1/FJYJ1_pbw1088.wav</td>\n",
       "      <td>-243.454285</td>\n",
       "      <td>-253.382156</td>\n",
       "      <td>-255.794922</td>\n",
       "      <td>-251.328857</td>\n",
       "      <td>-268.862457</td>\n",
       "      <td>-270.967194</td>\n",
       "      <td>-261.371918</td>\n",
       "      <td>-260.865417</td>\n",
       "      <td>-250.122711</td>\n",
       "      <td>...</td>\n",
       "      <td>0.0</td>\n",
       "      <td>0.0</td>\n",
       "      <td>0.0</td>\n",
       "      <td>0.0</td>\n",
       "      <td>0.0</td>\n",
       "      <td>0.0</td>\n",
       "      <td>0.0</td>\n",
       "      <td>0.0</td>\n",
       "      <td>0.0</td>\n",
       "      <td>feml</td>\n",
       "    </tr>\n",
       "    <tr>\n",
       "      <th>2116</th>\n",
       "      <td>raw16k/train/FKEJ0/FKEJ0_pbw1117.wav</td>\n",
       "      <td>-452.835297</td>\n",
       "      <td>-443.617828</td>\n",
       "      <td>-454.529083</td>\n",
       "      <td>-458.200867</td>\n",
       "      <td>-487.246490</td>\n",
       "      <td>-481.331848</td>\n",
       "      <td>-496.856873</td>\n",
       "      <td>-506.302948</td>\n",
       "      <td>-504.795349</td>\n",
       "      <td>...</td>\n",
       "      <td>0.0</td>\n",
       "      <td>0.0</td>\n",
       "      <td>0.0</td>\n",
       "      <td>0.0</td>\n",
       "      <td>0.0</td>\n",
       "      <td>0.0</td>\n",
       "      <td>0.0</td>\n",
       "      <td>0.0</td>\n",
       "      <td>0.0</td>\n",
       "      <td>feml</td>\n",
       "    </tr>\n",
       "    <tr>\n",
       "      <th>231</th>\n",
       "      <td>raw16k/train/FGBS0/FGBS0_pbw1032.wav</td>\n",
       "      <td>-430.351044</td>\n",
       "      <td>-396.328156</td>\n",
       "      <td>-397.207031</td>\n",
       "      <td>-387.942505</td>\n",
       "      <td>-402.910583</td>\n",
       "      <td>-400.541595</td>\n",
       "      <td>-394.241272</td>\n",
       "      <td>-405.073914</td>\n",
       "      <td>-417.138000</td>\n",
       "      <td>...</td>\n",
       "      <td>0.0</td>\n",
       "      <td>0.0</td>\n",
       "      <td>0.0</td>\n",
       "      <td>0.0</td>\n",
       "      <td>0.0</td>\n",
       "      <td>0.0</td>\n",
       "      <td>0.0</td>\n",
       "      <td>0.0</td>\n",
       "      <td>0.0</td>\n",
       "      <td>feml</td>\n",
       "    </tr>\n",
       "    <tr>\n",
       "      <th>2780</th>\n",
       "      <td>raw16k/train/FLGH0/FLGH0_pbw1181.wav</td>\n",
       "      <td>-268.635345</td>\n",
       "      <td>-249.424744</td>\n",
       "      <td>-228.871628</td>\n",
       "      <td>-225.276352</td>\n",
       "      <td>-214.906647</td>\n",
       "      <td>-206.776642</td>\n",
       "      <td>-198.894623</td>\n",
       "      <td>-210.790924</td>\n",
       "      <td>-215.549133</td>\n",
       "      <td>...</td>\n",
       "      <td>0.0</td>\n",
       "      <td>0.0</td>\n",
       "      <td>0.0</td>\n",
       "      <td>0.0</td>\n",
       "      <td>0.0</td>\n",
       "      <td>0.0</td>\n",
       "      <td>0.0</td>\n",
       "      <td>0.0</td>\n",
       "      <td>0.0</td>\n",
       "      <td>feml</td>\n",
       "    </tr>\n",
       "    <tr>\n",
       "      <th>...</th>\n",
       "      <td>...</td>\n",
       "      <td>...</td>\n",
       "      <td>...</td>\n",
       "      <td>...</td>\n",
       "      <td>...</td>\n",
       "      <td>...</td>\n",
       "      <td>...</td>\n",
       "      <td>...</td>\n",
       "      <td>...</td>\n",
       "      <td>...</td>\n",
       "      <td>...</td>\n",
       "      <td>...</td>\n",
       "      <td>...</td>\n",
       "      <td>...</td>\n",
       "      <td>...</td>\n",
       "      <td>...</td>\n",
       "      <td>...</td>\n",
       "      <td>...</td>\n",
       "      <td>...</td>\n",
       "      <td>...</td>\n",
       "      <td>...</td>\n",
       "    </tr>\n",
       "    <tr>\n",
       "      <th>3915</th>\n",
       "      <td>raw16k/train/FLSH1/FLSH1_pbw1116.wav</td>\n",
       "      <td>-331.727173</td>\n",
       "      <td>-311.308472</td>\n",
       "      <td>-314.836609</td>\n",
       "      <td>-309.803864</td>\n",
       "      <td>-316.015656</td>\n",
       "      <td>-314.702698</td>\n",
       "      <td>-307.348328</td>\n",
       "      <td>-322.848846</td>\n",
       "      <td>-309.810944</td>\n",
       "      <td>...</td>\n",
       "      <td>0.0</td>\n",
       "      <td>0.0</td>\n",
       "      <td>0.0</td>\n",
       "      <td>0.0</td>\n",
       "      <td>0.0</td>\n",
       "      <td>0.0</td>\n",
       "      <td>0.0</td>\n",
       "      <td>0.0</td>\n",
       "      <td>0.0</td>\n",
       "      <td>feml</td>\n",
       "    </tr>\n",
       "    <tr>\n",
       "      <th>9620</th>\n",
       "      <td>raw16k/train/MLWJ1/MLWJ1_pbw1021.wav</td>\n",
       "      <td>-286.912506</td>\n",
       "      <td>-257.790741</td>\n",
       "      <td>-249.507294</td>\n",
       "      <td>-249.536011</td>\n",
       "      <td>-210.922867</td>\n",
       "      <td>-197.607346</td>\n",
       "      <td>-178.165115</td>\n",
       "      <td>-199.741699</td>\n",
       "      <td>-180.210815</td>\n",
       "      <td>...</td>\n",
       "      <td>0.0</td>\n",
       "      <td>0.0</td>\n",
       "      <td>0.0</td>\n",
       "      <td>0.0</td>\n",
       "      <td>0.0</td>\n",
       "      <td>0.0</td>\n",
       "      <td>0.0</td>\n",
       "      <td>0.0</td>\n",
       "      <td>0.0</td>\n",
       "      <td>male</td>\n",
       "    </tr>\n",
       "    <tr>\n",
       "      <th>7068</th>\n",
       "      <td>raw16k/train/MJSG0/MJSG0_pbw1069.wav</td>\n",
       "      <td>-438.635284</td>\n",
       "      <td>-421.745850</td>\n",
       "      <td>-409.365875</td>\n",
       "      <td>-385.705475</td>\n",
       "      <td>-391.160980</td>\n",
       "      <td>-362.075348</td>\n",
       "      <td>-365.659912</td>\n",
       "      <td>-354.657684</td>\n",
       "      <td>-347.104218</td>\n",
       "      <td>...</td>\n",
       "      <td>0.0</td>\n",
       "      <td>0.0</td>\n",
       "      <td>0.0</td>\n",
       "      <td>0.0</td>\n",
       "      <td>0.0</td>\n",
       "      <td>0.0</td>\n",
       "      <td>0.0</td>\n",
       "      <td>0.0</td>\n",
       "      <td>0.0</td>\n",
       "      <td>male</td>\n",
       "    </tr>\n",
       "    <tr>\n",
       "      <th>7391</th>\n",
       "      <td>raw16k/train/MJST0/MJST0_pbw1192.wav</td>\n",
       "      <td>-252.588943</td>\n",
       "      <td>-208.159775</td>\n",
       "      <td>-208.322144</td>\n",
       "      <td>-216.950012</td>\n",
       "      <td>-224.177795</td>\n",
       "      <td>-221.013977</td>\n",
       "      <td>-228.688919</td>\n",
       "      <td>-238.187302</td>\n",
       "      <td>-228.476761</td>\n",
       "      <td>...</td>\n",
       "      <td>0.0</td>\n",
       "      <td>0.0</td>\n",
       "      <td>0.0</td>\n",
       "      <td>0.0</td>\n",
       "      <td>0.0</td>\n",
       "      <td>0.0</td>\n",
       "      <td>0.0</td>\n",
       "      <td>0.0</td>\n",
       "      <td>0.0</td>\n",
       "      <td>male</td>\n",
       "    </tr>\n",
       "    <tr>\n",
       "      <th>4367</th>\n",
       "      <td>raw16k/train/FLYE0/FLYE0_pbw1168.wav</td>\n",
       "      <td>-202.815353</td>\n",
       "      <td>-177.765976</td>\n",
       "      <td>-184.300079</td>\n",
       "      <td>-177.017746</td>\n",
       "      <td>-186.415161</td>\n",
       "      <td>-192.295746</td>\n",
       "      <td>-188.274750</td>\n",
       "      <td>-215.219971</td>\n",
       "      <td>-211.161224</td>\n",
       "      <td>...</td>\n",
       "      <td>0.0</td>\n",
       "      <td>0.0</td>\n",
       "      <td>0.0</td>\n",
       "      <td>0.0</td>\n",
       "      <td>0.0</td>\n",
       "      <td>0.0</td>\n",
       "      <td>0.0</td>\n",
       "      <td>0.0</td>\n",
       "      <td>0.0</td>\n",
       "      <td>feml</td>\n",
       "    </tr>\n",
       "  </tbody>\n",
       "</table>\n",
       "<p>10000 rows × 9802 columns</p>\n",
       "</div>"
      ],
      "text/plain": [
       "                                     fname           0           1  \\\n",
       "9957  raw16k/train/MLWS0/MLWS0_pbw1158.wav -340.279999 -319.469788   \n",
       "1687  raw16k/train/FJYJ1/FJYJ1_pbw1088.wav -243.454285 -253.382156   \n",
       "2116  raw16k/train/FKEJ0/FKEJ0_pbw1117.wav -452.835297 -443.617828   \n",
       "231   raw16k/train/FGBS0/FGBS0_pbw1032.wav -430.351044 -396.328156   \n",
       "2780  raw16k/train/FLGH0/FLGH0_pbw1181.wav -268.635345 -249.424744   \n",
       "...                                    ...         ...         ...   \n",
       "3915  raw16k/train/FLSH1/FLSH1_pbw1116.wav -331.727173 -311.308472   \n",
       "9620  raw16k/train/MLWJ1/MLWJ1_pbw1021.wav -286.912506 -257.790741   \n",
       "7068  raw16k/train/MJSG0/MJSG0_pbw1069.wav -438.635284 -421.745850   \n",
       "7391  raw16k/train/MJST0/MJST0_pbw1192.wav -252.588943 -208.159775   \n",
       "4367  raw16k/train/FLYE0/FLYE0_pbw1168.wav -202.815353 -177.765976   \n",
       "\n",
       "               2           3           4           5           6           7  \\\n",
       "9957 -321.478333 -323.552002 -325.117920 -340.695007 -360.244751 -385.219635   \n",
       "1687 -255.794922 -251.328857 -268.862457 -270.967194 -261.371918 -260.865417   \n",
       "2116 -454.529083 -458.200867 -487.246490 -481.331848 -496.856873 -506.302948   \n",
       "231  -397.207031 -387.942505 -402.910583 -400.541595 -394.241272 -405.073914   \n",
       "2780 -228.871628 -225.276352 -214.906647 -206.776642 -198.894623 -210.790924   \n",
       "...          ...         ...         ...         ...         ...         ...   \n",
       "3915 -314.836609 -309.803864 -316.015656 -314.702698 -307.348328 -322.848846   \n",
       "9620 -249.507294 -249.536011 -210.922867 -197.607346 -178.165115 -199.741699   \n",
       "7068 -409.365875 -385.705475 -391.160980 -362.075348 -365.659912 -354.657684   \n",
       "7391 -208.322144 -216.950012 -224.177795 -221.013977 -228.688919 -238.187302   \n",
       "4367 -184.300079 -177.017746 -186.415161 -192.295746 -188.274750 -215.219971   \n",
       "\n",
       "               8  ...  9791  9792  9793  9794  9795  9796  9797  9798  9799  \\\n",
       "9957 -384.449554  ...   0.0   0.0   0.0   0.0   0.0   0.0   0.0   0.0   0.0   \n",
       "1687 -250.122711  ...   0.0   0.0   0.0   0.0   0.0   0.0   0.0   0.0   0.0   \n",
       "2116 -504.795349  ...   0.0   0.0   0.0   0.0   0.0   0.0   0.0   0.0   0.0   \n",
       "231  -417.138000  ...   0.0   0.0   0.0   0.0   0.0   0.0   0.0   0.0   0.0   \n",
       "2780 -215.549133  ...   0.0   0.0   0.0   0.0   0.0   0.0   0.0   0.0   0.0   \n",
       "...          ...  ...   ...   ...   ...   ...   ...   ...   ...   ...   ...   \n",
       "3915 -309.810944  ...   0.0   0.0   0.0   0.0   0.0   0.0   0.0   0.0   0.0   \n",
       "9620 -180.210815  ...   0.0   0.0   0.0   0.0   0.0   0.0   0.0   0.0   0.0   \n",
       "7068 -347.104218  ...   0.0   0.0   0.0   0.0   0.0   0.0   0.0   0.0   0.0   \n",
       "7391 -228.476761  ...   0.0   0.0   0.0   0.0   0.0   0.0   0.0   0.0   0.0   \n",
       "4367 -211.161224  ...   0.0   0.0   0.0   0.0   0.0   0.0   0.0   0.0   0.0   \n",
       "\n",
       "      label  \n",
       "9957   male  \n",
       "1687   feml  \n",
       "2116   feml  \n",
       "231    feml  \n",
       "2780   feml  \n",
       "...     ...  \n",
       "3915   feml  \n",
       "9620   male  \n",
       "7068   male  \n",
       "7391   male  \n",
       "4367   feml  \n",
       "\n",
       "[10000 rows x 9802 columns]"
      ]
     },
     "execution_count": 11,
     "metadata": {},
     "output_type": "execute_result"
    }
   ],
   "source": [
    "shuffle_train=shuffle(train_set, random_state = 20)\n",
    "shuffle_test=shuffle(test_set, random_state = 30)\n",
    "shuffle_train"
   ]
  },
  {
   "cell_type": "code",
   "execution_count": 12,
   "id": "38c29fc7",
   "metadata": {},
   "outputs": [
    {
     "name": "stdout",
     "output_type": "stream",
     "text": [
      "(10000, 9802)\n",
      "(900, 9802)\n"
     ]
    }
   ],
   "source": [
    "print(train_set.shape)\n",
    "print(test_set.shape)"
   ]
  },
  {
   "cell_type": "code",
   "execution_count": 13,
   "id": "e01ced3a",
   "metadata": {},
   "outputs": [],
   "source": [
    "def convert_to_labels(preds, i2c, k=2):\n",
    "    ans = []\n",
    "    ids = []\n",
    "    for p in preds:\n",
    "        idx = np.argsort(p)[::-1]\n",
    "        ids.append([i for i in idx[:k]])\n",
    "        ans.append(' '.join([i2c[i] for i in idx[:k]]))\n",
    "\n",
    "    return ans, ids"
   ]
  },
  {
   "cell_type": "code",
   "execution_count": 186,
   "id": "fb6c43e7",
   "metadata": {},
   "outputs": [
    {
     "name": "stdout",
     "output_type": "stream",
     "text": [
      "[0 0 0 ... 1 1 1]\n"
     ]
    }
   ],
   "source": [
    "X = train_set.drop(['label', 'fname'], axis=1)\n",
    "feature_names = list(X.columns)  # 특징 번호 리스트\n",
    "\n",
    "X = X.values  # 특징벡터 값 전체\n",
    "\n",
    "\n",
    "# 라벨값 문자열 -> int 변환 (PCA 적용시 변환 필요)\n",
    "labels= np.sort(np.unique(train_set.label.values))  # 라벨 이름 가져오기\n",
    "\n",
    "num_class = len(labels)\n",
    "c2i = {}\n",
    "i2c = {}\n",
    "for i, c in enumerate(labels):\n",
    "    c2i[c] = i  # feml, male -> index = 0 or 1로 변환\n",
    "    i2c[i] = c  # 0 or 1 -> feml, male 변환\n",
    "    \n",
    "y=np.array([c2i[x] for x in train_set.label.values])\n",
    "y_test=np.array([c2i[x] for x in test_set.label.values])\n",
    "print(y)"
   ]
  },
  {
   "cell_type": "code",
   "execution_count": 14,
   "id": "3d1f50af",
   "metadata": {},
   "outputs": [
    {
     "name": "stdout",
     "output_type": "stream",
     "text": [
      "i =  0 , c =  feml\n",
      "i =  1 , c =  male\n",
      "[1 0 0 ... 1 1 0]\n"
     ]
    }
   ],
   "source": [
    "X = shuffle_train.drop(['label', 'fname'], axis=1)\n",
    "feature_names = list(X.columns)  # 특징 번호 리스트\n",
    "\n",
    "X = X.values  # 특징벡터 값 전체\n",
    "\n",
    "\n",
    "# 라벨값 문자열 -> int 변환 (PCA 적용시 변환 필요)\n",
    "labels= np.sort(np.unique(shuffle_train.label.values))  # 라벨 이름 가져오기\n",
    "\n",
    "num_class = len(labels)\n",
    "c2i = {}\n",
    "i2c = {}\n",
    "for i, c in enumerate(labels):\n",
    "    print(\"i = \", i, \", c = \", c)\n",
    "    c2i[c] = i  # feml, male -> index = 0 or 1로 변환\n",
    "    i2c[i] = c  # 0 or 1 -> feml, male 변환\n",
    "    \n",
    "y=np.array([c2i[x] for x in shuffle_train.label.values])\n",
    "y_test=np.array([c2i[x] for x in shuffle_test.label.values])\n",
    "print(y)"
   ]
  },
  {
   "cell_type": "code",
   "execution_count": null,
   "id": "d4b8169e",
   "metadata": {},
   "outputs": [],
   "source": [
    "X_test = test_set.drop(['label', 'fname'], axis=1)\n",
    "X_test = X_test.values"
   ]
  },
  {
   "cell_type": "code",
   "execution_count": 15,
   "id": "09641d7b",
   "metadata": {},
   "outputs": [],
   "source": [
    "X_test = shuffle_test.drop(['label', 'fname'], axis=1)\n",
    "X_test = X_test.values"
   ]
  },
  {
   "cell_type": "code",
   "execution_count": 16,
   "id": "7a542c8c",
   "metadata": {},
   "outputs": [
    {
     "name": "stdout",
     "output_type": "stream",
     "text": [
      "(10000, 9800)\n",
      "(900, 9800)\n"
     ]
    }
   ],
   "source": [
    "print(X.shape)\n",
    "print(X_test.shape)"
   ]
  },
  {
   "cell_type": "code",
   "execution_count": 17,
   "id": "06635af2",
   "metadata": {},
   "outputs": [
    {
     "data": {
      "text/plain": [
       "(10000, 9800)"
      ]
     },
     "execution_count": 17,
     "metadata": {},
     "output_type": "execute_result"
    }
   ],
   "source": [
    "# PCA를 적용하기 위한 scaling(정규화)\n",
    "scaler = StandardScaler()\n",
    "X_scaled = scaler.fit_transform(X)\n",
    "X_test_scaled = scaler.transform(X_test)\n",
    "\n",
    "X_scaled.shape"
   ]
  },
  {
   "cell_type": "code",
   "execution_count": 18,
   "id": "822bdaae",
   "metadata": {},
   "outputs": [],
   "source": [
    "#차원축소를 위한 LDA 적용 \n",
    "lda_components = 1   # LDA의 구성 요소 개수\n",
    "\n",
    "lda = LinearDiscriminantAnalysis(n_components=lda_components)\n",
    "X_lda = lda.fit_transform(X_scaled, y)\n",
    "\n",
    "X_test_lda = lda.transform(X_test_scaled)"
   ]
  },
  {
   "cell_type": "code",
   "execution_count": 27,
   "id": "74b8703d",
   "metadata": {},
   "outputs": [
    {
     "name": "stdout",
     "output_type": "stream",
     "text": [
      "0.9100066220635199\n"
     ]
    },
    {
     "data": {
      "text/plain": [
       "array([[-2.4703994 , -1.4388593 ,  8.650852  , ...,  0.18011945,\n",
       "         0.34008694,  0.16748874],\n",
       "       [-1.7060648 , -0.639249  ,  3.212101  , ..., -0.68547964,\n",
       "         0.70372796,  0.7278491 ],\n",
       "       [-1.1628335 , -0.51647586,  3.009104  , ...,  0.3662851 ,\n",
       "         0.1424865 ,  0.23818183],\n",
       "       ...,\n",
       "       [-1.965316  , -1.034346  ,  5.296126  , ...,  0.4303124 ,\n",
       "        -1.1826857 , -0.4678933 ],\n",
       "       [-2.6734788 , -1.8036952 ,  8.923252  , ..., -0.53338563,\n",
       "         2.045601  , -0.513074  ],\n",
       "       [-1.0847927 , -1.048129  ,  5.2243104 , ...,  0.73449206,\n",
       "        -0.66947937, -1.1425419 ]], dtype=float32)"
      ]
     },
     "execution_count": 27,
     "metadata": {},
     "output_type": "execute_result"
    }
   ],
   "source": [
    "# 차원축소를 위한 PCA 적용 \n",
    "pca = PCA(n_components=1500).fit(X_scaled)\n",
    "X_pca = pca.transform(X_scaled)\n",
    "X_test_pca = pca.transform(X_test_scaled)\n",
    "\n",
    "print(sum(pca.explained_variance_ratio_))\n",
    "X_pca"
   ]
  },
  {
   "cell_type": "code",
   "execution_count": 28,
   "id": "78a35e17",
   "metadata": {},
   "outputs": [
    {
     "name": "stdout",
     "output_type": "stream",
     "text": [
      "0.951\n"
     ]
    }
   ],
   "source": [
    "# 기존 트레인셋을 분할하여 정확도 테스트\n",
    "# Fit an SVM model\n",
    "X_train, X_val, y_train, y_val = train_test_split(X_pca, y, test_size = 0.2, random_state = 30, shuffle = True)\n",
    "\n",
    "clf = svm.SVC() # 93.5\n",
    "#clf.fit(X_pca, train_labels)\n",
    "#clf = SVC(kernel = 'linear', probability=True)  # 90.6\n",
    "#clf = SVC(kernel = 'rbf', C = 4, gamma = 0.01, probability=True)  # 93.3\n",
    "clf.fit(X_train, y_train)\n",
    "\n",
    "print(accuracy_score(clf.predict(X_val), y_val))"
   ]
  },
  {
   "cell_type": "code",
   "execution_count": 22,
   "id": "b8c2cad9",
   "metadata": {},
   "outputs": [
    {
     "name": "stdout",
     "output_type": "stream",
     "text": [
      "0.999\n"
     ]
    }
   ],
   "source": [
    "# 기존 트레인셋을 분할하여 정확도 테스트\n",
    "# Fit an SVM model\n",
    "X_train, X_val, y_train, y_val = train_test_split(X_lda, y, test_size = 0.2, random_state = 30, shuffle = True)\n",
    "\n",
    "clf = svm.SVC() # 93.5\n",
    "#clf.fit(X_pca, train_labels)\n",
    "#clf = SVC(kernel = 'linear', probability=True)  # 90.6\n",
    "#clf = SVC(kernel = 'rbf', C = 4, gamma = 0.01, probability=True)  # 93.3\n",
    "clf.fit(X_train, y_train)\n",
    "\n",
    "print(accuracy_score(clf.predict(X_val), y_val))"
   ]
  },
  {
   "cell_type": "code",
   "execution_count": 29,
   "id": "99a61a67",
   "metadata": {},
   "outputs": [
    {
     "name": "stdout",
     "output_type": "stream",
     "text": [
      "0.913\n"
     ]
    }
   ],
   "source": [
    "clf = SVC(kernel = 'linear', C=4, probability=True)  # 90.6\n",
    "clf.fit(X_train, y_train)\n",
    "print(accuracy_score(clf.predict(X_val), y_val))"
   ]
  },
  {
   "cell_type": "code",
   "execution_count": 30,
   "id": "b8899d1b",
   "metadata": {},
   "outputs": [
    {
     "name": "stdout",
     "output_type": "stream",
     "text": [
      "0.4815\n"
     ]
    }
   ],
   "source": [
    "clf = SVC(kernel = 'rbf', C = 4, gamma = 0.01, probability=True)  # 93.3\n",
    "clf.fit(X_train, y_train)\n",
    "print(accuracy_score(clf.predict(X_val), y_val))"
   ]
  },
  {
   "cell_type": "code",
   "execution_count": 31,
   "id": "baa720da",
   "metadata": {},
   "outputs": [
    {
     "name": "stdout",
     "output_type": "stream",
     "text": [
      "0.913\n"
     ]
    }
   ],
   "source": [
    "clf = SVC(kernel = 'linear', C=0.1, probability=True)  # 90.6\n",
    "clf.fit(X_train, y_train)\n",
    "print(accuracy_score(clf.predict(X_val), y_val))"
   ]
  },
  {
   "cell_type": "code",
   "execution_count": 33,
   "id": "499e84a1",
   "metadata": {},
   "outputs": [
    {
     "name": "stdout",
     "output_type": "stream",
     "text": [
      "0.9355555555555556\n"
     ]
    }
   ],
   "source": [
    "clf = svm.SVC(probability=True)\n",
    "\n",
    "model = clf.fit(X_pca, y)\n",
    "str_preds, _ = convert_to_labels(clf.predict_proba(X_test_pca), i2c, k=2)\n",
    "#print(str_preds)\n",
    "print(accuracy_score(clf.predict(X_test_pca), y_test))"
   ]
  },
  {
   "cell_type": "code",
   "execution_count": 21,
   "id": "63713f31",
   "metadata": {},
   "outputs": [],
   "source": [
    "def plot_learning_curve(estimator, X, y, train_sizes, cv):\n",
    "    train_sizes, train_scores, test_scores = learning_curve(\n",
    "        estimator, X, y, train_sizes=train_sizes, cv=cv)\n",
    "\n",
    "    train_scores_mean = np.mean(train_scores, axis=1)\n",
    "    train_scores_std = np.std(train_scores, axis=1)\n",
    "    test_scores_mean = np.mean(test_scores, axis=1)\n",
    "    test_scores_std = np.std(test_scores, axis=1)\n",
    "\n",
    "    plt.figure()\n",
    "    plt.title('Learning Curve')\n",
    "    plt.xlabel('Training Examples')\n",
    "    plt.ylabel('Score')\n",
    "\n",
    "    plt.grid()\n",
    "\n",
    "    plt.fill_between(train_sizes, train_scores_mean - train_scores_std,\n",
    "                     train_scores_mean + train_scores_std, alpha=0.1, color='r')\n",
    "    plt.fill_between(train_sizes, test_scores_mean - test_scores_std,\n",
    "                     test_scores_mean + test_scores_std, alpha=0.1, color='g')\n",
    "    plt.plot(train_sizes, train_scores_mean, 'o-', color='r', label='Training Score')\n",
    "    plt.plot(train_sizes, test_scores_mean, 'o-', color='g', label='Cross-validation Score')\n",
    "\n",
    "    plt.legend(loc='best')\n",
    "    plt.show()\n",
    "    \n",
    "    \n",
    "def plot_loss_curve(estimator, X, y, train_sizes, cv):\n",
    "    train_sizes, train_losses, test_losses = learning_curve(\n",
    "        estimator, X, y, train_sizes=train_sizes, cv=cv, scoring='neg_mean_squared_error')\n",
    "\n",
    "    train_losses_mean = -np.mean(train_losses, axis=1)\n",
    "    train_losses_std = np.std(train_losses, axis=1)\n",
    "    test_losses_mean = -np.mean(test_losses, axis=1)\n",
    "    test_losses_std = np.std(test_losses, axis=1)\n",
    "\n",
    "    plt.figure()\n",
    "    plt.title('Loss Curve')\n",
    "    plt.xlabel('Training Examples')\n",
    "    plt.ylabel('Loss')\n",
    "\n",
    "    plt.grid()\n",
    "\n",
    "    plt.fill_between(train_sizes, train_losses_mean - train_losses_std,\n",
    "                     train_losses_mean + train_losses_std, alpha=0.1, color='r')\n",
    "    plt.fill_between(train_sizes, test_losses_mean - test_losses_std,\n",
    "                     test_losses_mean + test_losses_std, alpha=0.1, color='g')\n",
    "    plt.plot(train_sizes, train_losses_mean, 'o-', color='r', label='Training Loss')\n",
    "    plt.plot(train_sizes, test_losses_mean, 'o-', color='g', label='Cross-validation Loss')\n",
    "\n",
    "    plt.legend(loc='best')\n",
    "    plt.show()\n"
   ]
  },
  {
   "cell_type": "code",
   "execution_count": 22,
   "id": "72dfd134",
   "metadata": {},
   "outputs": [],
   "source": [
    "estimator = svm.SVC(probability=True)  # 학습에 사용할 모델 또는 추정기\n",
    "X = X_pca  # 학습 데이터\n",
    "y = y # 레이블\n",
    "train_sizes = np.linspace(0.1, 1.0, 10)  # 학습 데이터 크기를 10개로 분할\n",
    "cv = 5  # 교차검증을 위한 폴드 수"
   ]
  },
  {
   "cell_type": "code",
   "execution_count": 23,
   "id": "7ba1ec5c",
   "metadata": {},
   "outputs": [
    {
     "data": {
      "image/png": "[encoded data removed]",
      "text/plain": [
       "<Figure size 640x480 with 1 Axes>"
      ]
     },
     "metadata": {},
     "output_type": "display_data"
    }
   ],
   "source": [
    "plot_loss_curve(estimator, X, y, train_sizes, cv=5)"
   ]
  },
  {
   "cell_type": "code",
   "execution_count": 24,
   "id": "d4ef8565",
   "metadata": {},
   "outputs": [
    {
     "data": {
      "image/png": "[encoded data removed]",
      "text/plain": [
       "<Figure size 640x480 with 1 Axes>"
      ]
     },
     "metadata": {},
     "output_type": "display_data"
    }
   ],
   "source": [
    "plot_learning_curve(estimator, X, y, train_sizes, cv)"
   ]
  },
  {
   "cell_type": "markdown",
   "id": "146dbe9c",
   "metadata": {},
   "source": [
    "# SVM 모델 학습"
   ]
  },
  {
   "cell_type": "code",
   "execution_count": 24,
   "id": "5a1350fa",
   "metadata": {},
   "outputs": [],
   "source": [
    "def to_df_test(y_pred, test_wav):\n",
    "    predict_df = pd.DataFrame()\n",
    "    pred_name=[]\n",
    "    for i in range(len(y_pred)):\n",
    "        if(y_pred[i] == 0):\n",
    "            pred_name.append(\"male\")\n",
    "        elif(y_pred[i] == 1):\n",
    "            pred_name.append(\"feml\")\n",
    "    \n",
    "    predict_df[\"data\"] = test_wav[\"fname\"]\n",
    "    predict_df[\"label\"] = pred_name\n",
    "    #predict_df = predict_df.data\n",
    "        \n",
    "    return predict_df\n",
    "\n",
    "def to_txt_test(predict_df):\n",
    "    predict_df.to_csv('강력한컴공_test_results.txt', sep = \" \", index=False, header=False, lineterminator='\\n')\n",
    "    "
   ]
  },
  {
   "cell_type": "code",
   "execution_count": 39,
   "id": "2d9cb0f0",
   "metadata": {},
   "outputs": [
    {
     "name": "stdout",
     "output_type": "stream",
     "text": [
      "0.9122222222222223\n"
     ]
    }
   ],
   "source": [
    "C=100\n",
    "clf = svm.LinearSVC(C=C, max_iter = 10000)\n",
    "clf.fit(X_pca, y)\n",
    "\n",
    "print(accuracy_score(clf.predict(X_test_pca), y_test))\n",
    "y_pred = clf.predict(X_test_pca)\n",
    "#predict_df = to_df_test(y_pred, test_wav)\n",
    "#to_txt_test(predict_df)\n"
   ]
  },
  {
   "cell_type": "code",
   "execution_count": 26,
   "id": "04c62da9",
   "metadata": {},
   "outputs": [
    {
     "name": "stdout",
     "output_type": "stream",
     "text": [
      "0.5633333333333334\n"
     ]
    }
   ],
   "source": [
    "clf = svm.SVC()\n",
    "clf.fit(X_pca, train_labels)\n",
    "\n",
    "print(accuracy_score(clf.predict(X_test_pca), test_labels))\n",
    "y_pred = clf.predict(X_test_pca)\n",
    "predict_df = to_df_test(y_pred, test_wav)\n",
    "to_txt_test(predict_df)\n",
    "\n"
   ]
  },
  {
   "cell_type": "code",
   "execution_count": 27,
   "id": "575328fd",
   "metadata": {},
   "outputs": [
    {
     "name": "stdout",
     "output_type": "stream",
     "text": [
      "0.5944444444444444\n"
     ]
    },
    {
     "name": "stderr",
     "output_type": "stream",
     "text": [
      "/opt/homebrew/lib/python3.10/site-packages/sklearn/svm/_base.py:1244: ConvergenceWarning: Liblinear failed to converge, increase the number of iterations.\n",
      "  warnings.warn(\n"
     ]
    }
   ],
   "source": [
    "C=8\n",
    "clf = svm.LinearSVC(C=C, max_iter = 10000)\n",
    "clf.fit(X_pca, train_labels)\n",
    "\n",
    "print(accuracy_score(clf.predict(X_test_pca), test_labels))\n",
    "y_pred = clf.predict(X_test_pca)\n",
    "predict_df = to_df_test(y_pred, test_wav)\n",
    "to_txt_test(predict_df)\n"
   ]
  },
  {
   "cell_type": "code",
   "execution_count": 77,
   "id": "60ff4dfc",
   "metadata": {},
   "outputs": [
    {
     "name": "stdout",
     "output_type": "stream",
     "text": [
      "0.9066666666666666\n"
     ]
    }
   ],
   "source": [
    "# polynomial 활용\n",
    "\n",
    "clf = svm.SVC(kernel = 'poly', degree = 3, gamma = 'auto', C=C, max_iter = 10000)    \n",
    "#3차항으로 설정, degree = 3\n",
    "#gamma는 sigma^2에 해당하는 scale parameter\n",
    "#학습 반복횟수 10000\n",
    "\n",
    "clf.fit(X_pca, train_labels)\n",
    "\n",
    "print(accuracy_score(clf.predict(X_test_pca), test_labels))\n",
    "y_pred = clf.predict(X_test_pca)\n",
    "predict_df = to_df_test(y_pred, test_wav)\n",
    "to_txt_test(predict_df)\n"
   ]
  },
  {
   "cell_type": "code",
   "execution_count": 78,
   "id": "44fe424d",
   "metadata": {},
   "outputs": [
    {
     "name": "stdout",
     "output_type": "stream",
     "text": [
      "0.9233333333333333\n"
     ]
    },
    {
     "name": "stderr",
     "output_type": "stream",
     "text": [
      "/opt/homebrew/lib/python3.10/site-packages/sklearn/svm/_base.py:1244: ConvergenceWarning: Liblinear failed to converge, increase the number of iterations.\n",
      "  warnings.warn(\n"
     ]
    }
   ],
   "source": [
    "C=4\n",
    "clf = svm.LinearSVC(C=C, max_iter = 10000)\n",
    "clf.fit(X_pca, train_labels)\n",
    "\n",
    "print(accuracy_score(clf.predict(X_test_pca), test_labels))\n",
    "y_pred = clf.predict(X_test_pca)\n",
    "predict_df = to_df_test(y_pred, test_wav)\n",
    "to_txt_test(predict_df)\n"
   ]
  },
  {
   "cell_type": "code",
   "execution_count": 79,
   "id": "517e5690",
   "metadata": {},
   "outputs": [],
   "source": [
    "# 함수 정의\n",
    "def make_meshgrid(x, y, h=.02):\n",
    "    x_min, x_max = x.min() - 1, x.max() + 1\n",
    "    y_min, y_max = y.min() - 1, y.max() + 1\n",
    "    xx, yy = np.meshgrid(np.arange(x_min, x_max, h),\n",
    "                         np.arange(y_min, y_max, h))\n",
    "    return xx, yy\n",
    "\n",
    "\n",
    "def plot_contours(ax, clf, xx, yy, **params):\n",
    "    Z = clf.predict(np.c_[xx.ravel(), yy.ravel()])\n",
    "    Z = Z.reshape(xx.shape)\n",
    "    out = ax.contourf(xx, yy, Z, **params)\n",
    "    return out"
   ]
  },
  {
   "cell_type": "code",
   "execution_count": 80,
   "id": "9b97368f",
   "metadata": {},
   "outputs": [
    {
     "data": {
      "text/plain": [
       "(10000, 2)"
      ]
     },
     "execution_count": 80,
     "metadata": {},
     "output_type": "execute_result"
    }
   ],
   "source": [
    "# 데이터 로드하기\n",
    "X = X_pca[:, :2]\n",
    "y = train_labels\n",
    "X.shape"
   ]
  },
  {
   "cell_type": "code",
   "execution_count": 82,
   "id": "05a35926",
   "metadata": {},
   "outputs": [],
   "source": [
    "# 모델 정의&피팅\n",
    "C = 1.0 #regularization parameter\n",
    "models = (svm.SVC(kernel='linear', C=C),\n",
    "          svm.LinearSVC(C=C, max_iter=10000),\n",
    "          svm.SVC(),\n",
    "          svm.SVC(kernel='poly', degree=3, gamma='auto', C=C))\n",
    "models = (clf.fit(X, y) for clf in models)"
   ]
  },
  {
   "cell_type": "code",
   "execution_count": 84,
   "id": "b1c08d0b",
   "metadata": {},
   "outputs": [],
   "source": [
    "# plot title 형성\n",
    "titles = ('SVC with linear kernel',\n",
    "          'LinearSVC (linear kernel)',\n",
    "          'SVC',\n",
    "          'SVC with polynomial (degree 3) kernel')"
   ]
  },
  {
   "cell_type": "code",
   "execution_count": null,
   "id": "aac7ea43",
   "metadata": {},
   "outputs": [],
   "source": [
    "# plot 그리기\n",
    "\n",
    "fig, sub = plt.subplots(2, 2)\n",
    "plt.subplots_adjust(wspace=0.4, hspace=0.4)\n",
    "\n",
    "X0, X1 = X[:, 0], X[:, 1]\n",
    "xx, yy = make_meshgrid(X0, X1)\n",
    "\n",
    "for clf, title, ax in zip(models, titles, sub.flatten()):\n",
    "    plot_contours(ax, clf, xx, yy,\n",
    "                  cmap=plt.cm.coolwarm, alpha=0.8)\n",
    "    ax.scatter(X0, X1, c=y, cmap=plt.cm.coolwarm, s=20, edgecolors='k')\n",
    "    ax.set_xlim(xx.min(), xx.max())\n",
    "    ax.set_ylim(yy.min(), yy.max())\n",
    "    ax.set_xlabel('Sepal length')\n",
    "    ax.set_ylabel('Sepal width')\n",
    "    ax.set_xticks(())\n",
    "    ax.set_yticks(())\n",
    "    ax.set_title(title)\n",
    "\n",
    "plt.show()"
   ]
  },
  {
   "cell_type": "code",
   "execution_count": null,
   "id": "9beb6d28",
   "metadata": {},
   "outputs": [],
   "source": []
  }
 ],
 "metadata": {
  "kernelspec": {
   "display_name": "Python 3 (ipykernel)",
   "language": "python",
   "name": "python3"
  },
  "language_info": {
   "codemirror_mode": {
    "name": "ipython",
    "version": 3
   },
   "file_extension": ".py",
   "mimetype": "text/x-python",
   "name": "python",
   "nbconvert_exporter": "python",
   "pygments_lexer": "ipython3",
   "version": "3.10.11"
  }
 },
 "nbformat": 4,
 "nbformat_minor": 5
}
